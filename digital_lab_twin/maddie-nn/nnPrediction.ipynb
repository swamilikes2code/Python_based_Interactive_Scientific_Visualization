{
 "cells": [
  {
   "attachments": {},
   "cell_type": "markdown",
   "metadata": {},
   "source": [
    "# Intro/Imports\n",
    "This is an adaptation of nnExpPreds that will allow for adaptive changing of starting conditions, generating a set of model predictions to match."
   ]
  },
  {
   "cell_type": "code",
   "execution_count": 11,
   "metadata": {},
   "outputs": [],
   "source": [
    "import matplotlib.pyplot as plt\n",
    "import numpy as np\n",
    "import pandas as pd\n",
    "import torch\n",
    "import torch.nn as nn\n",
    "import torch.optim as optim\n",
    "import tqdm\n",
    "from sklearn.model_selection import train_test_split\n",
    "from sklearn import preprocessing\n",
    "import joblib\n",
    "import pathlib as path\n",
    "import copy\n",
    "import random"
   ]
  },
  {
   "attachments": {},
   "cell_type": "markdown",
   "metadata": {},
   "source": [
    "# Model Import"
   ]
  },
  {
   "cell_type": "code",
   "execution_count": 12,
   "metadata": {},
   "outputs": [],
   "source": [
    "model = torch.load('models/model.pt')\n",
    "model.eval()\n",
    "#loss/optimizer\n",
    "loss_fn = nn.MSELoss() #Mean Squared Error\n",
    "optimizer = optim.Adam(model.parameters(), lr=0.0005)\n",
    "\n",
    "#scalers\n",
    "mmscalerX = joblib.load('models/mmscalerX.pkl')\n",
    "mmscalerY = joblib.load('models/mmscalerY.pkl')\n"
   ]
  },
  {
   "attachments": {},
   "cell_type": "markdown",
   "metadata": {},
   "source": [
    "# Initial Condition Prep\n",
    "The prediction loop works by iterating thru a dataframe; feeding the current row through the model, and replacing the values of the next row with the results from the model. \n",
    "- X is a dataframe with rows: C_X, C_N, C_L, F_in, C_N_in, I0, and Time\n",
    "- Y is a dataframe with rows C_X, C_N, C_L"
   ]
  },
  {
   "cell_type": "code",
   "execution_count": 13,
   "metadata": {},
   "outputs": [],
   "source": [
    "XTimes = np.linspace(0, 150, 200)\n",
    "XDF = pd.DataFrame(XTimes, columns=['Time'])\n",
    "#generate empty columns\n",
    "XDF['C_X'] = np.zeros(200)\n",
    "XDF['C_N'] = np.zeros(200)\n",
    "XDF['C_L'] = np.zeros(200)\n",
    "XDF['F_in'] = np.zeros(200)\n",
    "XDF['C_N_in'] = np.zeros(200)\n",
    "XDF['I0'] = np.zeros(200)\n",
    "\n",
    "#set initial conditions by changing these vals\n",
    "C_X_init = 1.5\n",
    "C_N_init = 0.7\n",
    "C_L_init = 0.0\n",
    "F_in_init = 0.009\n",
    "C_N_in_init = 11\n",
    "I0_init = 136\n",
    "#write init conditions to df\n",
    "XDF['C_X'][0] = C_X_init\n",
    "XDF['C_N'][0] = C_N_init\n",
    "XDF['C_L'][0] = C_L_init\n",
    "XDF['F_in'][0] = F_in_init\n",
    "XDF['C_N_in'][0] = C_N_in_init\n",
    "XDF['I0'][0] = I0_init\n"
   ]
  }
 ],
 "metadata": {
  "kernelspec": {
   "display_name": "Python 3",
   "language": "python",
   "name": "python3"
  },
  "language_info": {
   "codemirror_mode": {
    "name": "ipython",
    "version": 3
   },
   "file_extension": ".py",
   "mimetype": "text/x-python",
   "name": "python",
   "nbconvert_exporter": "python",
   "pygments_lexer": "ipython3",
   "version": "3.11.4"
  },
  "orig_nbformat": 4
 },
 "nbformat": 4,
 "nbformat_minor": 2
}
