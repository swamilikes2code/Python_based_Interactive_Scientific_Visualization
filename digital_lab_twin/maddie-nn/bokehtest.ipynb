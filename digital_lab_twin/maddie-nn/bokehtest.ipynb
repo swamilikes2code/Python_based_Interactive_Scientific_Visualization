{
 "cells": [
  {
   "attachments": {},
   "cell_type": "markdown",
   "metadata": {},
   "source": [
    "# Intro/Imports\n",
    "was a matter of time before I needed to learn this!"
   ]
  },
  {
   "cell_type": "code",
   "execution_count": 1,
   "metadata": {},
   "outputs": [],
   "source": [
    "import bokeh\n",
    "import numpy as np\n",
    "import pandas as pd\n",
    "import torch\n",
    "import torch.nn as nn\n",
    "import torch.optim as optim\n",
    "import tqdm\n",
    "from sklearn.model_selection import train_test_split\n",
    "from sklearn import preprocessing\n",
    "import joblib\n",
    "import pathlib as path\n",
    "import copy"
   ]
  },
  {
   "attachments": {},
   "cell_type": "markdown",
   "metadata": {},
   "source": [
    "# The Basics\n",
    "Let's read in a dataset, and plot its' output!"
   ]
  },
  {
   "cell_type": "code",
   "execution_count": 11,
   "metadata": {},
   "outputs": [],
   "source": [
    "from bokeh.plotting import figure, show\n",
    "rawData = pd.read_csv('outputs/PredExperiment.csv', header=0)\n",
    "x = rawData.iloc[:, 7].values\n",
    "y = rawData.iloc[:, 1:4].values\n",
    "\n",
    "p = figure(title=\"Concentrations vs. Time\", x_axis_label='Time', y_axis_label='Concentrations (g/L)')\n",
    "\n",
    "# add a line renderer with legend and line thickness\n",
    "p.line(x, y[:, 0], legend_label=\"Concentration of Biomass\", line_width=2, color = \"red\")\n",
    "p.line(x, y[:, 1], legend_label=\"Concentration of Nitrates\", line_width=2, color = \"blue\")\n",
    "p.line(x, y[:, 2]*1000, legend_label=\"Concentration of Lutein (x1000)\", line_width=2, color = \"green\")\n",
    "show(p)"
   ]
  }
 ],
 "metadata": {
  "kernelspec": {
   "display_name": "Python 3",
   "language": "python",
   "name": "python3"
  },
  "language_info": {
   "codemirror_mode": {
    "name": "ipython",
    "version": 3
   },
   "file_extension": ".py",
   "mimetype": "text/x-python",
   "name": "python",
   "nbconvert_exporter": "python",
   "pygments_lexer": "ipython3",
   "version": "3.11.4"
  },
  "orig_nbformat": 4
 },
 "nbformat": 4,
 "nbformat_minor": 2
}
