{
 "cells": [
  {
   "attachments": {},
   "cell_type": "markdown",
   "metadata": {},
   "source": [
    "# Intro/Imports\n",
    "was a matter of time before I needed to learn this!"
   ]
  },
  {
   "cell_type": "code",
   "execution_count": 42,
   "metadata": {},
   "outputs": [],
   "source": [
    "import bokeh\n",
    "import bokeh.plotting as plt\n",
    "import bokeh.models.widgets as wd\n",
    "from bokeh.io import curdoc, show, output_notebook, push_notebook\n",
    "from bokeh.layouts import column, row\n",
    "from bokeh.models import TabPanel, Tabs, Paragraph\n",
    "import numpy as np\n",
    "import pandas as pd\n",
    "import torch\n",
    "import torch.nn as nn\n",
    "import torch.optim as optim\n",
    "import tqdm\n",
    "from sklearn.model_selection import train_test_split\n",
    "from sklearn import preprocessing\n",
    "import joblib\n",
    "import pathlib as path\n",
    "import copy"
   ]
  },
  {
   "attachments": {},
   "cell_type": "markdown",
   "metadata": {},
   "source": [
    "# The Basics\n",
    "Let's read in a dataset, and plot its' output!"
   ]
  },
  {
   "cell_type": "code",
   "execution_count": 57,
   "metadata": {},
   "outputs": [],
   "source": [
    "#Edit Tab\n",
    "\n",
    "#loss graph\n",
    "lossData = pd.read_csv(\"outputs/modelLosses.csv\")\n",
    "p1 = figure(width=300, height=300)\n",
    "indices = lossData.index.values\n",
    "losses = lossData[\"Loss\"].values\n",
    "p1.line(indices, losses, line_width=3, color=\"navy\", alpha=0.5)\n",
    "#widgets\n",
    "lr = bokeh.models.widgets.NumericInput(high=0.001, low=0.00001, mode='float', title=\"Learning Rate (range: 0.00001-0.001)\", value=0.0001)\n",
    "opt = bokeh.models.widgets.Dropdown(label=\"Optimizer\", button_type=\"warning\", menu=[(\"Adam\", '0'), (\"SGD\", '1')])\n",
    "loss = bokeh.models.widgets.Dropdown(label=\"Loss Function\", button_type=\"warning\", menu=[(\"MSE\", '0'), (\"KLDiv\", '1')])\n",
    "\n",
    "\n",
    "\n",
    "# Set up layouts and add to document\n",
    "widget = column(lr, opt, loss)\n",
    "graph = column(p)\n",
    "curdoc().add_root(row(widget, graph, width=800))\n",
    "final = curdoc().title = \"hell\"\n",
    "#Predict Tab\n",
    "p2 = figure(width=300, height=300)\n",
    "p2.line([1, 2, 3, 4, 5], [6, 7, 2, 4, 5], line_width=3, color=\"navy\", alpha=0.5)\n",
    "\n",
    "#Instructions Tab\n",
    "p3 = p = Paragraph(text=\"\"\"Use the Edit tab to change model parameters. Hit the \"Run\" button to see the results in the Predict tab. \n",
    "                        Change the initial prediction conditions in the Predict tab. \n",
    "                        When you're finished, hit Export to download the results.\"\"\",\n",
    "width=200, height=100)\n",
    "\n",
    "#create tabs\n",
    "tab1 = TabPanel(child=p1, title=\"Edit\")\n",
    "tab2 = TabPanel(child=p2, title=\"Predict\")\n",
    "tab3 = TabPanel(child=p3, title=\"Instructions\")\n",
    "\n",
    "#Show all combined\n",
    "show(Tabs(tabs=[tab1, tab2, tab3]))\n"
   ]
  }
 ],
 "metadata": {
  "kernelspec": {
   "display_name": "Python 3",
   "language": "python",
   "name": "python3"
  },
  "language_info": {
   "codemirror_mode": {
    "name": "ipython",
    "version": 3
   },
   "file_extension": ".py",
   "mimetype": "text/x-python",
   "name": "python",
   "nbconvert_exporter": "python",
   "pygments_lexer": "ipython3",
   "version": "3.11.4"
  },
  "orig_nbformat": 4
 },
 "nbformat": 4,
 "nbformat_minor": 2
}
