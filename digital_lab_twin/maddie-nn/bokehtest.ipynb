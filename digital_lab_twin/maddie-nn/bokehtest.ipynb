{
 "cells": [
  {
   "attachments": {},
   "cell_type": "markdown",
   "metadata": {},
   "source": [
    "# Intro/Imports\n",
    "was a matter of time before I needed to learn this!"
   ]
  },
  {
   "cell_type": "code",
   "execution_count": 30,
   "metadata": {},
   "outputs": [],
   "source": [
    "import bokeh\n",
    "import bokeh.plotting as plt\n",
    "import bokeh.models.widgets as wd\n",
    "from bokeh.io import curdoc, show, output_notebook, push_notebook\n",
    "from bokeh.layouts import column, row\n",
    "from bokeh.models import TabPanel, Tabs, Paragraph\n",
    "import numpy as np\n",
    "import pandas as pd\n",
    "import torch\n",
    "import torch.nn as nn\n",
    "import torch.optim as optim\n",
    "import tqdm\n",
    "from sklearn.model_selection import train_test_split\n",
    "from sklearn import preprocessing\n",
    "import joblib\n",
    "import pathlib as path\n",
    "import copy"
   ]
  },
  {
   "attachments": {},
   "cell_type": "markdown",
   "metadata": {},
   "source": [
    "# The Basics\n",
    "Let's read in a dataset, and plot its' output!"
   ]
  },
  {
   "cell_type": "code",
   "execution_count": 34,
   "metadata": {},
   "outputs": [
    {
     "ename": "NameError",
     "evalue": "name 'Paragraph' is not defined",
     "output_type": "error",
     "traceback": [
      "\u001b[1;31m---------------------------------------------------------------------------\u001b[0m",
      "\u001b[1;31mNameError\u001b[0m                                 Traceback (most recent call last)",
      "Cell \u001b[1;32mIn[34], line 8\u001b[0m\n\u001b[0;32m      5\u001b[0m p2 \u001b[39m=\u001b[39m figure(width\u001b[39m=\u001b[39m\u001b[39m300\u001b[39m, height\u001b[39m=\u001b[39m\u001b[39m300\u001b[39m)\n\u001b[0;32m      6\u001b[0m p2\u001b[39m.\u001b[39mline([\u001b[39m1\u001b[39m, \u001b[39m2\u001b[39m, \u001b[39m3\u001b[39m, \u001b[39m4\u001b[39m, \u001b[39m5\u001b[39m], [\u001b[39m6\u001b[39m, \u001b[39m7\u001b[39m, \u001b[39m2\u001b[39m, \u001b[39m4\u001b[39m, \u001b[39m5\u001b[39m], line_width\u001b[39m=\u001b[39m\u001b[39m3\u001b[39m, color\u001b[39m=\u001b[39m\u001b[39m\"\u001b[39m\u001b[39mnavy\u001b[39m\u001b[39m\"\u001b[39m, alpha\u001b[39m=\u001b[39m\u001b[39m0.5\u001b[39m)\n\u001b[1;32m----> 8\u001b[0m p3 \u001b[39m=\u001b[39m p \u001b[39m=\u001b[39m Paragraph(text\u001b[39m=\u001b[39m\u001b[39m\"\"\"\u001b[39m\u001b[39mUse the Edit tab to change model parameters. Hit the \u001b[39m\u001b[39m\"\u001b[39m\u001b[39mRun\u001b[39m\u001b[39m\"\u001b[39m\u001b[39m button to see the results in the Predict tab. \u001b[39m\n\u001b[0;32m      9\u001b[0m \u001b[39m                        Change the initial prediction conditions in the Predict tab. \u001b[39m\n\u001b[0;32m     10\u001b[0m \u001b[39m                        When you\u001b[39m\u001b[39m'\u001b[39m\u001b[39mre finished, hit Export to download the results.\u001b[39m\u001b[39m\"\"\"\u001b[39m,\n\u001b[0;32m     11\u001b[0m width\u001b[39m=\u001b[39m\u001b[39m200\u001b[39m, height\u001b[39m=\u001b[39m\u001b[39m100\u001b[39m)\u001b[39m#create tabs\u001b[39;00m\n\u001b[0;32m     12\u001b[0m tab1 \u001b[39m=\u001b[39m TabPanel(child\u001b[39m=\u001b[39mp1, title\u001b[39m=\u001b[39m\u001b[39m\"\u001b[39m\u001b[39mEdit\u001b[39m\u001b[39m\"\u001b[39m)\n\u001b[0;32m     13\u001b[0m tab2 \u001b[39m=\u001b[39m TabPanel(child\u001b[39m=\u001b[39mp2, title\u001b[39m=\u001b[39m\u001b[39m\"\u001b[39m\u001b[39mPredict\u001b[39m\u001b[39m\"\u001b[39m)\n",
      "\u001b[1;31mNameError\u001b[0m: name 'Paragraph' is not defined"
     ]
    }
   ],
   "source": [
    "\n",
    "p1 = figure(width=300, height=300)\n",
    "p1.circle([1, 2, 3, 4, 5], [6, 7, 2, 4, 5], size=20, color=\"navy\", alpha=0.5)\n",
    "\n",
    "\n",
    "p2 = figure(width=300, height=300)\n",
    "p2.line([1, 2, 3, 4, 5], [6, 7, 2, 4, 5], line_width=3, color=\"navy\", alpha=0.5)\n",
    "\n",
    "p3 = p = Paragraph(text=\"\"\"Use the Edit tab to change model parameters. Hit the \"Run\" button to see the results in the Predict tab. \n",
    "                        Change the initial prediction conditions in the Predict tab. \n",
    "                        When you're finished, hit Export to download the results.\"\"\",\n",
    "width=200, height=100)#create tabs\n",
    "tab1 = TabPanel(child=p1, title=\"Edit\")\n",
    "tab2 = TabPanel(child=p2, title=\"Predict\")\n",
    "tab3 = TabPanel(child=p3, title=\"Instructions\")\n",
    "\n",
    "show(Tabs(tabs=[tab1, tab2, tab3]))\n"
   ]
  }
 ],
 "metadata": {
  "kernelspec": {
   "display_name": "Python 3",
   "language": "python",
   "name": "python3"
  },
  "language_info": {
   "codemirror_mode": {
    "name": "ipython",
    "version": 3
   },
   "file_extension": ".py",
   "mimetype": "text/x-python",
   "name": "python",
   "nbconvert_exporter": "python",
   "pygments_lexer": "ipython3",
   "version": "3.11.4"
  },
  "orig_nbformat": 4
 },
 "nbformat": 4,
 "nbformat_minor": 2
}
