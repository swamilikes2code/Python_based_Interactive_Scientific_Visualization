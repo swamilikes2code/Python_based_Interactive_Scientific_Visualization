{
 "cells": [
  {
   "cell_type": "markdown",
   "metadata": {},
   "source": [
    "---\n",
    "#### Bouncing Ball Animation from Leaning Scientific Programming with Python\n",
    "\n",
    "* Direct link to the [work](https://scipython.com/book2/chapter-7-matplotlib/examples/animating-a-bouncing-ball/)\n",
    "---"
   ]
  },
  {
   "cell_type": "markdown",
   "metadata": {},
   "source": [
    "---\n",
    "\n",
    "##### Design\n",
    "\n",
    "* A function to generate bouncing ball height based on co-efficient of restitution\n",
    "\n",
    "* Generate a pandas dataframe to store for 4 different values of restitution. Dataframe should have time, height and co-efficient of restitution. We can regnerate all ODE values like reaction kinetics, but keeping the use case simple here.\n",
    "\n",
    "* User button option for restitution\n",
    "\n",
    "* Time slider for bouncing ball\n",
    "\n",
    "* Animate button \n",
    "\n",
    "* Add Tool tips to have height of ball and time\n",
    "\n",
    "---"
   ]
  },
  {
   "cell_type": "code",
   "execution_count": 21,
   "metadata": {},
   "outputs": [],
   "source": [
    "import numpy as np\n",
    "from bokeh.models import ColumnDataSource, Slider, Div, HoverTool, Grid, Tabs, Button\n",
    "from bokeh.plotting import figure,show\n",
    "from bokeh.io import output_notebook, curdoc\n",
    "from bokeh.layouts import row, column, gridplot"
   ]
  },
  {
   "cell_type": "code",
   "execution_count": 2,
   "metadata": {
    "tags": []
   },
   "outputs": [
    {
     "data": {
      "text/html": [
       "<style>\n",
       "        .bk-notebook-logo {\n",
       "            display: block;\n",
       "            width: 20px;\n",
       "            height: 20px;\n",
       "            background-image: url(data:image/png;base64,iVBORw0KGgoAAAANSUhEUgAAABQAAAAUCAYAAACNiR0NAAAABHNCSVQICAgIfAhkiAAAAAlwSFlzAAALEgAACxIB0t1+/AAAABx0RVh0U29mdHdhcmUAQWRvYmUgRmlyZXdvcmtzIENTNui8sowAAAOkSURBVDiNjZRtaJVlGMd/1/08zzln5zjP1LWcU9N0NkN8m2CYjpgQYQXqSs0I84OLIC0hkEKoPtiH3gmKoiJDU7QpLgoLjLIQCpEsNJ1vqUOdO7ppbuec5+V+rj4ctwzd8IIbbi6u+8f1539dt3A78eXC7QizUF7gyV1fD1Yqg4JWz84yffhm0qkFqBogB9rM8tZdtwVsPUhWhGcFJngGeWrPzHm5oaMmkfEg1usvLFyc8jLRqDOMru7AyC8saQr7GG7f5fvDeH7Ej8CM66nIF+8yngt6HWaKh7k49Soy9nXurCi1o3qUbS3zWfrYeQDTB/Qj6kX6Ybhw4B+bOYoLKCC9H3Nu/leUTZ1JdRWkkn2ldcCamzrcf47KKXdAJllSlxAOkRgyHsGC/zRday5Qld9DyoM4/q/rUoy/CXh3jzOu3bHUVZeU+DEn8FInkPBFlu3+nW3Nw0mk6vCDiWg8CeJaxEwuHS3+z5RgY+YBR6V1Z1nxSOfoaPa4LASWxxdNp+VWTk7+4vzaou8v8PN+xo+KY2xsw6une2frhw05CTYOmQvsEhjhWjn0bmXPjpE1+kplmmkP3suftwTubK9Vq22qKmrBhpY4jvd5afdRA3wGjFAgcnTK2s4hY0/GPNIb0nErGMCRxWOOX64Z8RAC4oCXdklmEvcL8o0BfkNK4lUg9HTl+oPlQxdNo3Mg4Nv175e/1LDGzZen30MEjRUtmXSfiTVu1kK8W4txyV6BMKlbgk3lMwYCiusNy9fVfvvwMxv8Ynl6vxoByANLTWplvuj/nF9m2+PDtt1eiHPBr1oIfhCChQMBw6Aw0UulqTKZdfVvfG7VcfIqLG9bcldL/+pdWTLxLUy8Qq38heUIjh4XlzZxzQm19lLFlr8vdQ97rjZVOLf8nclzckbcD4wxXMidpX30sFd37Fv/GtwwhzhxGVAprjbg0gCAEeIgwCZyTV2Z1REEW8O4py0wsjeloKoMr6iCY6dP92H6Vw/oTyICIthibxjm/DfN9lVz8IqtqKYLUXfoKVMVQVVJOElGjrnnUt9T9wbgp8AyYKaGlqingHZU/uG2NTZSVqwHQTWkx9hxjkpWDaCg6Ckj5qebgBVbT3V3NNXMSiWSDdGV3hrtzla7J+duwPOToIg42ChPQOQjspnSlp1V+Gjdged7+8UN5CRAV7a5EdFNwCjEaBR27b3W890TE7g24NAP/mMDXRWrGoFPQI9ls/MWO2dWFAar/xcOIImbbpA3zgAAAABJRU5ErkJggg==);\n",
       "        }\n",
       "    </style>\n",
       "    <div>\n",
       "        <a href=\"https://bokeh.org\" target=\"_blank\" class=\"bk-notebook-logo\"></a>\n",
       "        <span id=\"p1001\">Loading BokehJS ...</span>\n",
       "    </div>\n"
      ]
     },
     "metadata": {},
     "output_type": "display_data"
    },
    {
     "data": {
      "application/javascript": [
       "(function(root) {\n",
       "  function now() {\n",
       "    return new Date();\n",
       "  }\n",
       "\n",
       "  const force = true;\n",
       "\n",
       "  if (typeof root._bokeh_onload_callbacks === \"undefined\" || force === true) {\n",
       "    root._bokeh_onload_callbacks = [];\n",
       "    root._bokeh_is_loading = undefined;\n",
       "  }\n",
       "\n",
       "const JS_MIME_TYPE = 'application/javascript';\n",
       "  const HTML_MIME_TYPE = 'text/html';\n",
       "  const EXEC_MIME_TYPE = 'application/vnd.bokehjs_exec.v0+json';\n",
       "  const CLASS_NAME = 'output_bokeh rendered_html';\n",
       "\n",
       "  /**\n",
       "   * Render data to the DOM node\n",
       "   */\n",
       "  function render(props, node) {\n",
       "    const script = document.createElement(\"script\");\n",
       "    node.appendChild(script);\n",
       "  }\n",
       "\n",
       "  /**\n",
       "   * Handle when an output is cleared or removed\n",
       "   */\n",
       "  function handleClearOutput(event, handle) {\n",
       "    const cell = handle.cell;\n",
       "\n",
       "    const id = cell.output_area._bokeh_element_id;\n",
       "    const server_id = cell.output_area._bokeh_server_id;\n",
       "    // Clean up Bokeh references\n",
       "    if (id != null && id in Bokeh.index) {\n",
       "      Bokeh.index[id].model.document.clear();\n",
       "      delete Bokeh.index[id];\n",
       "    }\n",
       "\n",
       "    if (server_id !== undefined) {\n",
       "      // Clean up Bokeh references\n",
       "      const cmd_clean = \"from bokeh.io.state import curstate; print(curstate().uuid_to_server['\" + server_id + \"'].get_sessions()[0].document.roots[0]._id)\";\n",
       "      cell.notebook.kernel.execute(cmd_clean, {\n",
       "        iopub: {\n",
       "          output: function(msg) {\n",
       "            const id = msg.content.text.trim();\n",
       "            if (id in Bokeh.index) {\n",
       "              Bokeh.index[id].model.document.clear();\n",
       "              delete Bokeh.index[id];\n",
       "            }\n",
       "          }\n",
       "        }\n",
       "      });\n",
       "      // Destroy server and session\n",
       "      const cmd_destroy = \"import bokeh.io.notebook as ion; ion.destroy_server('\" + server_id + \"')\";\n",
       "      cell.notebook.kernel.execute(cmd_destroy);\n",
       "    }\n",
       "  }\n",
       "\n",
       "  /**\n",
       "   * Handle when a new output is added\n",
       "   */\n",
       "  function handleAddOutput(event, handle) {\n",
       "    const output_area = handle.output_area;\n",
       "    const output = handle.output;\n",
       "\n",
       "    // limit handleAddOutput to display_data with EXEC_MIME_TYPE content only\n",
       "    if ((output.output_type != \"display_data\") || (!Object.prototype.hasOwnProperty.call(output.data, EXEC_MIME_TYPE))) {\n",
       "      return\n",
       "    }\n",
       "\n",
       "    const toinsert = output_area.element.find(\".\" + CLASS_NAME.split(' ')[0]);\n",
       "\n",
       "    if (output.metadata[EXEC_MIME_TYPE][\"id\"] !== undefined) {\n",
       "      toinsert[toinsert.length - 1].firstChild.textContent = output.data[JS_MIME_TYPE];\n",
       "      // store reference to embed id on output_area\n",
       "      output_area._bokeh_element_id = output.metadata[EXEC_MIME_TYPE][\"id\"];\n",
       "    }\n",
       "    if (output.metadata[EXEC_MIME_TYPE][\"server_id\"] !== undefined) {\n",
       "      const bk_div = document.createElement(\"div\");\n",
       "      bk_div.innerHTML = output.data[HTML_MIME_TYPE];\n",
       "      const script_attrs = bk_div.children[0].attributes;\n",
       "      for (let i = 0; i < script_attrs.length; i++) {\n",
       "        toinsert[toinsert.length - 1].firstChild.setAttribute(script_attrs[i].name, script_attrs[i].value);\n",
       "        toinsert[toinsert.length - 1].firstChild.textContent = bk_div.children[0].textContent\n",
       "      }\n",
       "      // store reference to server id on output_area\n",
       "      output_area._bokeh_server_id = output.metadata[EXEC_MIME_TYPE][\"server_id\"];\n",
       "    }\n",
       "  }\n",
       "\n",
       "  function register_renderer(events, OutputArea) {\n",
       "\n",
       "    function append_mime(data, metadata, element) {\n",
       "      // create a DOM node to render to\n",
       "      const toinsert = this.create_output_subarea(\n",
       "        metadata,\n",
       "        CLASS_NAME,\n",
       "        EXEC_MIME_TYPE\n",
       "      );\n",
       "      this.keyboard_manager.register_events(toinsert);\n",
       "      // Render to node\n",
       "      const props = {data: data, metadata: metadata[EXEC_MIME_TYPE]};\n",
       "      render(props, toinsert[toinsert.length - 1]);\n",
       "      element.append(toinsert);\n",
       "      return toinsert\n",
       "    }\n",
       "\n",
       "    /* Handle when an output is cleared or removed */\n",
       "    events.on('clear_output.CodeCell', handleClearOutput);\n",
       "    events.on('delete.Cell', handleClearOutput);\n",
       "\n",
       "    /* Handle when a new output is added */\n",
       "    events.on('output_added.OutputArea', handleAddOutput);\n",
       "\n",
       "    /**\n",
       "     * Register the mime type and append_mime function with output_area\n",
       "     */\n",
       "    OutputArea.prototype.register_mime_type(EXEC_MIME_TYPE, append_mime, {\n",
       "      /* Is output safe? */\n",
       "      safe: true,\n",
       "      /* Index of renderer in `output_area.display_order` */\n",
       "      index: 0\n",
       "    });\n",
       "  }\n",
       "\n",
       "  // register the mime type if in Jupyter Notebook environment and previously unregistered\n",
       "  if (root.Jupyter !== undefined) {\n",
       "    const events = require('base/js/events');\n",
       "    const OutputArea = require('notebook/js/outputarea').OutputArea;\n",
       "\n",
       "    if (OutputArea.prototype.mime_types().indexOf(EXEC_MIME_TYPE) == -1) {\n",
       "      register_renderer(events, OutputArea);\n",
       "    }\n",
       "  }\n",
       "  if (typeof (root._bokeh_timeout) === \"undefined\" || force === true) {\n",
       "    root._bokeh_timeout = Date.now() + 5000;\n",
       "    root._bokeh_failed_load = false;\n",
       "  }\n",
       "\n",
       "  const NB_LOAD_WARNING = {'data': {'text/html':\n",
       "     \"<div style='background-color: #fdd'>\\n\"+\n",
       "     \"<p>\\n\"+\n",
       "     \"BokehJS does not appear to have successfully loaded. If loading BokehJS from CDN, this \\n\"+\n",
       "     \"may be due to a slow or bad network connection. Possible fixes:\\n\"+\n",
       "     \"</p>\\n\"+\n",
       "     \"<ul>\\n\"+\n",
       "     \"<li>re-rerun `output_notebook()` to attempt to load from CDN again, or</li>\\n\"+\n",
       "     \"<li>use INLINE resources instead, as so:</li>\\n\"+\n",
       "     \"</ul>\\n\"+\n",
       "     \"<code>\\n\"+\n",
       "     \"from bokeh.resources import INLINE\\n\"+\n",
       "     \"output_notebook(resources=INLINE)\\n\"+\n",
       "     \"</code>\\n\"+\n",
       "     \"</div>\"}};\n",
       "\n",
       "  function display_loaded() {\n",
       "    const el = document.getElementById(\"p1001\");\n",
       "    if (el != null) {\n",
       "      el.textContent = \"BokehJS is loading...\";\n",
       "    }\n",
       "    if (root.Bokeh !== undefined) {\n",
       "      if (el != null) {\n",
       "        el.textContent = \"BokehJS \" + root.Bokeh.version + \" successfully loaded.\";\n",
       "      }\n",
       "    } else if (Date.now() < root._bokeh_timeout) {\n",
       "      setTimeout(display_loaded, 100)\n",
       "    }\n",
       "  }\n",
       "\n",
       "  function run_callbacks() {\n",
       "    try {\n",
       "      root._bokeh_onload_callbacks.forEach(function(callback) {\n",
       "        if (callback != null)\n",
       "          callback();\n",
       "      });\n",
       "    } finally {\n",
       "      delete root._bokeh_onload_callbacks\n",
       "    }\n",
       "    console.debug(\"Bokeh: all callbacks have finished\");\n",
       "  }\n",
       "\n",
       "  function load_libs(css_urls, js_urls, callback) {\n",
       "    if (css_urls == null) css_urls = [];\n",
       "    if (js_urls == null) js_urls = [];\n",
       "\n",
       "    root._bokeh_onload_callbacks.push(callback);\n",
       "    if (root._bokeh_is_loading > 0) {\n",
       "      console.debug(\"Bokeh: BokehJS is being loaded, scheduling callback at\", now());\n",
       "      return null;\n",
       "    }\n",
       "    if (js_urls == null || js_urls.length === 0) {\n",
       "      run_callbacks();\n",
       "      return null;\n",
       "    }\n",
       "    console.debug(\"Bokeh: BokehJS not loaded, scheduling load and callback at\", now());\n",
       "    root._bokeh_is_loading = css_urls.length + js_urls.length;\n",
       "\n",
       "    function on_load() {\n",
       "      root._bokeh_is_loading--;\n",
       "      if (root._bokeh_is_loading === 0) {\n",
       "        console.debug(\"Bokeh: all BokehJS libraries/stylesheets loaded\");\n",
       "        run_callbacks()\n",
       "      }\n",
       "    }\n",
       "\n",
       "    function on_error(url) {\n",
       "      console.error(\"failed to load \" + url);\n",
       "    }\n",
       "\n",
       "    for (let i = 0; i < css_urls.length; i++) {\n",
       "      const url = css_urls[i];\n",
       "      const element = document.createElement(\"link\");\n",
       "      element.onload = on_load;\n",
       "      element.onerror = on_error.bind(null, url);\n",
       "      element.rel = \"stylesheet\";\n",
       "      element.type = \"text/css\";\n",
       "      element.href = url;\n",
       "      console.debug(\"Bokeh: injecting link tag for BokehJS stylesheet: \", url);\n",
       "      document.body.appendChild(element);\n",
       "    }\n",
       "\n",
       "    for (let i = 0; i < js_urls.length; i++) {\n",
       "      const url = js_urls[i];\n",
       "      const element = document.createElement('script');\n",
       "      element.onload = on_load;\n",
       "      element.onerror = on_error.bind(null, url);\n",
       "      element.async = false;\n",
       "      element.src = url;\n",
       "      console.debug(\"Bokeh: injecting script tag for BokehJS library: \", url);\n",
       "      document.head.appendChild(element);\n",
       "    }\n",
       "  };\n",
       "\n",
       "  function inject_raw_css(css) {\n",
       "    const element = document.createElement(\"style\");\n",
       "    element.appendChild(document.createTextNode(css));\n",
       "    document.body.appendChild(element);\n",
       "  }\n",
       "\n",
       "  const js_urls = [\"https://cdn.bokeh.org/bokeh/release/bokeh-3.1.0.min.js\", \"https://cdn.bokeh.org/bokeh/release/bokeh-gl-3.1.0.min.js\", \"https://cdn.bokeh.org/bokeh/release/bokeh-widgets-3.1.0.min.js\", \"https://cdn.bokeh.org/bokeh/release/bokeh-tables-3.1.0.min.js\", \"https://cdn.bokeh.org/bokeh/release/bokeh-mathjax-3.1.0.min.js\"];\n",
       "  const css_urls = [];\n",
       "\n",
       "  const inline_js = [    function(Bokeh) {\n",
       "      Bokeh.set_log_level(\"info\");\n",
       "    },\n",
       "function(Bokeh) {\n",
       "    }\n",
       "  ];\n",
       "\n",
       "  function run_inline_js() {\n",
       "    if (root.Bokeh !== undefined || force === true) {\n",
       "          for (let i = 0; i < inline_js.length; i++) {\n",
       "      inline_js[i].call(root, root.Bokeh);\n",
       "    }\n",
       "if (force === true) {\n",
       "        display_loaded();\n",
       "      }} else if (Date.now() < root._bokeh_timeout) {\n",
       "      setTimeout(run_inline_js, 100);\n",
       "    } else if (!root._bokeh_failed_load) {\n",
       "      console.log(\"Bokeh: BokehJS failed to load within specified timeout.\");\n",
       "      root._bokeh_failed_load = true;\n",
       "    } else if (force !== true) {\n",
       "      const cell = $(document.getElementById(\"p1001\")).parents('.cell').data().cell;\n",
       "      cell.output_area.append_execute_result(NB_LOAD_WARNING)\n",
       "    }\n",
       "  }\n",
       "\n",
       "  if (root._bokeh_is_loading === 0) {\n",
       "    console.debug(\"Bokeh: BokehJS loaded, going straight to plotting\");\n",
       "    run_inline_js();\n",
       "  } else {\n",
       "    load_libs(css_urls, js_urls, function() {\n",
       "      console.debug(\"Bokeh: BokehJS plotting callback run at\", now());\n",
       "      run_inline_js();\n",
       "    });\n",
       "  }\n",
       "}(window));"
      ],
      "application/vnd.bokehjs_load.v0+json": "(function(root) {\n  function now() {\n    return new Date();\n  }\n\n  const force = true;\n\n  if (typeof root._bokeh_onload_callbacks === \"undefined\" || force === true) {\n    root._bokeh_onload_callbacks = [];\n    root._bokeh_is_loading = undefined;\n  }\n\n\n  if (typeof (root._bokeh_timeout) === \"undefined\" || force === true) {\n    root._bokeh_timeout = Date.now() + 5000;\n    root._bokeh_failed_load = false;\n  }\n\n  const NB_LOAD_WARNING = {'data': {'text/html':\n     \"<div style='background-color: #fdd'>\\n\"+\n     \"<p>\\n\"+\n     \"BokehJS does not appear to have successfully loaded. If loading BokehJS from CDN, this \\n\"+\n     \"may be due to a slow or bad network connection. Possible fixes:\\n\"+\n     \"</p>\\n\"+\n     \"<ul>\\n\"+\n     \"<li>re-rerun `output_notebook()` to attempt to load from CDN again, or</li>\\n\"+\n     \"<li>use INLINE resources instead, as so:</li>\\n\"+\n     \"</ul>\\n\"+\n     \"<code>\\n\"+\n     \"from bokeh.resources import INLINE\\n\"+\n     \"output_notebook(resources=INLINE)\\n\"+\n     \"</code>\\n\"+\n     \"</div>\"}};\n\n  function display_loaded() {\n    const el = document.getElementById(\"p1001\");\n    if (el != null) {\n      el.textContent = \"BokehJS is loading...\";\n    }\n    if (root.Bokeh !== undefined) {\n      if (el != null) {\n        el.textContent = \"BokehJS \" + root.Bokeh.version + \" successfully loaded.\";\n      }\n    } else if (Date.now() < root._bokeh_timeout) {\n      setTimeout(display_loaded, 100)\n    }\n  }\n\n  function run_callbacks() {\n    try {\n      root._bokeh_onload_callbacks.forEach(function(callback) {\n        if (callback != null)\n          callback();\n      });\n    } finally {\n      delete root._bokeh_onload_callbacks\n    }\n    console.debug(\"Bokeh: all callbacks have finished\");\n  }\n\n  function load_libs(css_urls, js_urls, callback) {\n    if (css_urls == null) css_urls = [];\n    if (js_urls == null) js_urls = [];\n\n    root._bokeh_onload_callbacks.push(callback);\n    if (root._bokeh_is_loading > 0) {\n      console.debug(\"Bokeh: BokehJS is being loaded, scheduling callback at\", now());\n      return null;\n    }\n    if (js_urls == null || js_urls.length === 0) {\n      run_callbacks();\n      return null;\n    }\n    console.debug(\"Bokeh: BokehJS not loaded, scheduling load and callback at\", now());\n    root._bokeh_is_loading = css_urls.length + js_urls.length;\n\n    function on_load() {\n      root._bokeh_is_loading--;\n      if (root._bokeh_is_loading === 0) {\n        console.debug(\"Bokeh: all BokehJS libraries/stylesheets loaded\");\n        run_callbacks()\n      }\n    }\n\n    function on_error(url) {\n      console.error(\"failed to load \" + url);\n    }\n\n    for (let i = 0; i < css_urls.length; i++) {\n      const url = css_urls[i];\n      const element = document.createElement(\"link\");\n      element.onload = on_load;\n      element.onerror = on_error.bind(null, url);\n      element.rel = \"stylesheet\";\n      element.type = \"text/css\";\n      element.href = url;\n      console.debug(\"Bokeh: injecting link tag for BokehJS stylesheet: \", url);\n      document.body.appendChild(element);\n    }\n\n    for (let i = 0; i < js_urls.length; i++) {\n      const url = js_urls[i];\n      const element = document.createElement('script');\n      element.onload = on_load;\n      element.onerror = on_error.bind(null, url);\n      element.async = false;\n      element.src = url;\n      console.debug(\"Bokeh: injecting script tag for BokehJS library: \", url);\n      document.head.appendChild(element);\n    }\n  };\n\n  function inject_raw_css(css) {\n    const element = document.createElement(\"style\");\n    element.appendChild(document.createTextNode(css));\n    document.body.appendChild(element);\n  }\n\n  const js_urls = [\"https://cdn.bokeh.org/bokeh/release/bokeh-3.1.0.min.js\", \"https://cdn.bokeh.org/bokeh/release/bokeh-gl-3.1.0.min.js\", \"https://cdn.bokeh.org/bokeh/release/bokeh-widgets-3.1.0.min.js\", \"https://cdn.bokeh.org/bokeh/release/bokeh-tables-3.1.0.min.js\", \"https://cdn.bokeh.org/bokeh/release/bokeh-mathjax-3.1.0.min.js\"];\n  const css_urls = [];\n\n  const inline_js = [    function(Bokeh) {\n      Bokeh.set_log_level(\"info\");\n    },\nfunction(Bokeh) {\n    }\n  ];\n\n  function run_inline_js() {\n    if (root.Bokeh !== undefined || force === true) {\n          for (let i = 0; i < inline_js.length; i++) {\n      inline_js[i].call(root, root.Bokeh);\n    }\nif (force === true) {\n        display_loaded();\n      }} else if (Date.now() < root._bokeh_timeout) {\n      setTimeout(run_inline_js, 100);\n    } else if (!root._bokeh_failed_load) {\n      console.log(\"Bokeh: BokehJS failed to load within specified timeout.\");\n      root._bokeh_failed_load = true;\n    } else if (force !== true) {\n      const cell = $(document.getElementById(\"p1001\")).parents('.cell').data().cell;\n      cell.output_area.append_execute_result(NB_LOAD_WARNING)\n    }\n  }\n\n  if (root._bokeh_is_loading === 0) {\n    console.debug(\"Bokeh: BokehJS loaded, going straight to plotting\");\n    run_inline_js();\n  } else {\n    load_libs(css_urls, js_urls, function() {\n      console.debug(\"Bokeh: BokehJS plotting callback run at\", now());\n      run_inline_js();\n    });\n  }\n}(window));"
     },
     "metadata": {},
     "output_type": "display_data"
    }
   ],
   "source": [
    "output_notebook()"
   ]
  },
  {
   "cell_type": "code",
   "execution_count": 3,
   "metadata": {
    "tags": []
   },
   "outputs": [],
   "source": [
    "# Acceleration due to gravity, m.s-2.\n",
    "g = 9.81\n",
    "# The maximum x-range of ball's trajectory to plot.\n",
    "XMAX = 5\n",
    "# The coefficient of restitution for bounces (-v_up/v_down).\n",
    "cor_start = 0.65\n",
    "# The time step for the animation.\n",
    "dt = 0.005\n",
    "# Initial position and velocity vectors.\n",
    "x0, y0, t0 = 0.0, 4.0, 0.0\n",
    "vx0, vy0 = 1.0, 0.0"
   ]
  },
  {
   "cell_type": "code",
   "execution_count": 4,
   "metadata": {
    "tags": []
   },
   "outputs": [
    {
     "data": {
      "text/plain": [
       "1"
      ]
     },
     "execution_count": 4,
     "metadata": {},
     "output_type": "execute_result"
    }
   ],
   "source": [
    "a=0\n",
    "a+=1\n",
    "a"
   ]
  },
  {
   "cell_type": "code",
   "execution_count": 5,
   "metadata": {
    "tags": []
   },
   "outputs": [
    {
     "name": "stdout",
     "output_type": "stream",
     "text": [
      "4.0\n"
     ]
    }
   ],
   "source": [
    "initial_data = dict(x=[], y=[], t=[])\n",
    "x, y, vx, vy, t = x0, y0, vx0, vy0, t0\n",
    "print(y)\n",
    "while x < XMAX:\n",
    "    x += vx0 * dt\n",
    "    y += vy * dt\n",
    "    vy -= g * dt\n",
    "    t += dt\n",
    "    if y < 0:\n",
    "        # bounce!\n",
    "        y = 0\n",
    "        vy = -vy * cor_start\n",
    "    initial_data['x'].append(x)\n",
    "    initial_data['y'].append(y)\n",
    "    initial_data['t'].append(t)\n",
    "source=ColumnDataSource(data=initial_data)\n",
    "initial_pos_data = dict(x=[initial_data['x'][10]], y=[initial_data['y'][10]])\n",
    "source_time = ColumnDataSource(data=initial_pos_data)"
   ]
  },
  {
   "cell_type": "code",
   "execution_count": 6,
   "metadata": {
    "tags": []
   },
   "outputs": [],
   "source": [
    "# Set up plot for concentrations\n",
    "TOOLTIPS = [(\"x (m)\",\"@x{0,0.000}\"), (\"y (m)\",\"@y{0,0.000}\")]\n",
    "TOOLS = \"pan,undo,redo,reset,save,wheel_zoom,box_zoom\"\n",
    "plot_ball = figure(height=450, width=550, tools=TOOLS, tooltips=TOOLTIPS,\n",
    "              title=\"Bouncing Ball Animation\")\n",
    "plot_ball.line('x', 'y', source=source, line_width=3, line_alpha=0.6, line_color=\"mediumblue\",\n",
    "               legend_label=\"Trace\")\n",
    "plot_ball.circle('x', 'y', source=source_time, color=\"navy\", size=15.0, alpha=0.75,\n",
    "               legend_label=\"Current Location\")\n",
    "plot_ball.xaxis.axis_label = \"x (m)\"\n",
    "plot_ball.yaxis.axis_label = \"y (m)\"\n",
    "plot_ball.legend.location = \"top_right\"\n",
    "plot_ball.legend.click_policy=\"hide\"\n",
    "plot_ball.legend.background_fill_alpha = 0.5\n",
    "plot_ball.grid.grid_line_color = \"silver\""
   ]
  },
  {
   "cell_type": "code",
   "execution_count": 7,
   "metadata": {
    "tags": []
   },
   "outputs": [
    {
     "data": {
      "text/html": [
       "\n",
       "  <div id=\"a494df97-b008-42d1-baa3-f7f470d971a0\" data-root-id=\"p1008\" style=\"display: contents;\"></div>\n"
      ]
     },
     "metadata": {},
     "output_type": "display_data"
    },
    {
     "data": {
      "application/javascript": [
       "(function(root) {\n",
       "  function embed_document(root) {\n",
       "  const docs_json = {\"01b9d727-ed1b-478a-8d77-8c00a83c7aa4\":{\"version\":\"3.1.0\",\"title\":\"Bokeh Application\",\"defs\":[],\"roots\":[{\"type\":\"object\",\"name\":\"Figure\",\"id\":\"p1008\",\"attributes\":{\"width\":550,\"height\":450,\"x_range\":{\"type\":\"object\",\"name\":\"DataRange1d\",\"id\":\"p1010\"},\"y_range\":{\"type\":\"object\",\"name\":\"DataRange1d\",\"id\":\"p1009\"},\"x_scale\":{\"type\":\"object\",\"name\":\"LinearScale\",\"id\":\"p1022\"},\"y_scale\":{\"type\":\"object\",\"name\":\"LinearScale\",\"id\":\"p1024\"},\"title\":{\"type\":\"object\",\"name\":\"Title\",\"id\":\"p1011\",\"attributes\":{\"text\":\"Bouncing Ball Animation\"}},\"renderers\":[{\"type\":\"object\",\"name\":\"GlyphRenderer\",\"id\":\"p1065\",\"attributes\":{\"data_source\":{\"type\":\"object\",\"name\":\"ColumnDataSource\",\"id\":\"p1002\",\"attributes\":{\"selected\":{\"type\":\"object\",\"name\":\"Selection\",\"id\":\"p1003\",\"attributes\":{\"indices\":[],\"line_indices\":[]}},\"selection_policy\":{\"type\":\"object\",\"name\":\"UnionRenderers\",\"id\":\"p1004\"},\"data\":{\"type\":\"map\",\"entries\":[[\"x\",[0.005,0.01,0.015,0.02,0.025,0.030000000000000002,0.035,0.04,0.045,0.049999999999999996,0.05499999999999999,0.05999999999999999,0.06499999999999999,0.06999999999999999,0.075,0.08,0.085,0.09000000000000001,0.09500000000000001,0.10000000000000002,0.10500000000000002,0.11000000000000003,0.11500000000000003,0.12000000000000004,0.12500000000000003,0.13000000000000003,0.13500000000000004,0.14000000000000004,0.14500000000000005,0.15000000000000005,0.15500000000000005,0.16000000000000006,0.16500000000000006,0.17000000000000007,0.17500000000000007,0.18000000000000008,0.18500000000000008,0.19000000000000009,0.1950000000000001,0.2000000000000001,0.2050000000000001,0.2100000000000001,0.2150000000000001,0.2200000000000001,0.22500000000000012,0.23000000000000012,0.23500000000000013,0.24000000000000013,0.24500000000000013,0.2500000000000001,0.2550000000000001,0.2600000000000001,0.2650000000000001,0.27000000000000013,0.27500000000000013,0.28000000000000014,0.28500000000000014,0.29000000000000015,0.29500000000000015,0.30000000000000016,0.30500000000000016,0.31000000000000016,0.31500000000000017,0.3200000000000002,0.3250000000000002,0.3300000000000002,0.3350000000000002,0.3400000000000002,0.3450000000000002,0.3500000000000002,0.3550000000000002,0.3600000000000002,0.3650000000000002,0.3700000000000002,0.3750000000000002,0.3800000000000002,0.38500000000000023,0.39000000000000024,0.39500000000000024,0.40000000000000024,0.40500000000000025,0.41000000000000025,0.41500000000000026,0.42000000000000026,0.42500000000000027,0.43000000000000027,0.4350000000000003,0.4400000000000003,0.4450000000000003,0.4500000000000003,0.4550000000000003,0.4600000000000003,0.4650000000000003,0.4700000000000003,0.4750000000000003,0.4800000000000003,0.4850000000000003,0.4900000000000003,0.49500000000000033,0.5000000000000003,0.5050000000000003,0.5100000000000003,0.5150000000000003,0.5200000000000004,0.5250000000000004,0.5300000000000004,0.5350000000000004,0.5400000000000004,0.5450000000000004,0.5500000000000004,0.5550000000000004,0.5600000000000004,0.5650000000000004,0.5700000000000004,0.5750000000000004,0.5800000000000004,0.5850000000000004,0.5900000000000004,0.5950000000000004,0.6000000000000004,0.6050000000000004,0.6100000000000004,0.6150000000000004,0.6200000000000004,0.6250000000000004,0.6300000000000004,0.6350000000000005,0.6400000000000005,0.6450000000000005,0.6500000000000005,0.6550000000000005,0.6600000000000005,0.6650000000000005,0.6700000000000005,0.6750000000000005,0.6800000000000005,0.6850000000000005,0.6900000000000005,0.6950000000000005,0.7000000000000005,0.7050000000000005,0.7100000000000005,0.7150000000000005,0.7200000000000005,0.7250000000000005,0.7300000000000005,0.7350000000000005,0.7400000000000005,0.7450000000000006,0.7500000000000006,0.7550000000000006,0.7600000000000006,0.7650000000000006,0.7700000000000006,0.7750000000000006,0.7800000000000006,0.7850000000000006,0.7900000000000006,0.7950000000000006,0.8000000000000006,0.8050000000000006,0.8100000000000006,0.8150000000000006,0.8200000000000006,0.8250000000000006,0.8300000000000006,0.8350000000000006,0.8400000000000006,0.8450000000000006,0.8500000000000006,0.8550000000000006,0.8600000000000007,0.8650000000000007,0.8700000000000007,0.8750000000000007,0.8800000000000007,0.8850000000000007,0.8900000000000007,0.8950000000000007,0.9000000000000007,0.9050000000000007,0.9100000000000007,0.9150000000000007,0.9200000000000007,0.9250000000000007,0.9300000000000007,0.9350000000000007,0.9400000000000007,0.9450000000000007,0.9500000000000007,0.9550000000000007,0.9600000000000007,0.9650000000000007,0.9700000000000008,0.9750000000000008,0.9800000000000008,0.9850000000000008,0.9900000000000008,0.9950000000000008,1.0000000000000007,1.0050000000000006,1.0100000000000005,1.0150000000000003,1.0200000000000002,1.0250000000000001,1.03,1.035,1.0399999999999998,1.0449999999999997,1.0499999999999996,1.0549999999999995,1.0599999999999994,1.0649999999999993,1.0699999999999992,1.074999999999999,1.079999999999999,1.0849999999999989,1.0899999999999987,1.0949999999999986,1.0999999999999985,1.1049999999999984,1.1099999999999983,1.1149999999999982,1.119999999999998,1.124999999999998,1.129999999999998,1.1349999999999978,1.1399999999999977,1.1449999999999976,1.1499999999999975,1.1549999999999974,1.1599999999999973,1.1649999999999971,1.169999999999997,1.174999999999997,1.1799999999999968,1.1849999999999967,1.1899999999999966,1.1949999999999965,1.1999999999999964,1.2049999999999963,1.2099999999999962,1.214999999999996,1.219999999999996,1.2249999999999959,1.2299999999999958,1.2349999999999957,1.2399999999999956,1.2449999999999954,1.2499999999999953,1.2549999999999952,1.2599999999999951,1.264999999999995,1.269999999999995,1.2749999999999948,1.2799999999999947,1.2849999999999946,1.2899999999999945,1.2949999999999944,1.2999999999999943,1.3049999999999942,1.309999999999994,1.314999999999994,1.3199999999999938,1.3249999999999937,1.3299999999999936,1.3349999999999935,1.3399999999999934,1.3449999999999933,1.3499999999999932,1.354999999999993,1.359999999999993,1.3649999999999929,1.3699999999999928,1.3749999999999927,1.3799999999999926,1.3849999999999925,1.3899999999999924,1.3949999999999922,1.3999999999999921,1.404999999999992,1.409999999999992,1.4149999999999918,1.4199999999999917,1.4249999999999916,1.4299999999999915,1.4349999999999914,1.4399999999999913,1.4449999999999912,1.449999999999991,1.454999999999991,1.4599999999999909,1.4649999999999908,1.4699999999999906,1.4749999999999905,1.4799999999999904,1.4849999999999903,1.4899999999999902,1.4949999999999901,1.49999999999999,1.50499999999999,1.5099999999999898,1.5149999999999897,1.5199999999999896,1.5249999999999895,1.5299999999999894,1.5349999999999893,1.5399999999999892,1.544999999999989,1.549999999999989,1.5549999999999888,1.5599999999999887,1.5649999999999886,1.5699999999999885,1.5749999999999884,1.5799999999999883,1.5849999999999882,1.589999999999988,1.594999999999988,1.5999999999999879,1.6049999999999878,1.6099999999999877,1.6149999999999876,1.6199999999999875,1.6249999999999873,1.6299999999999872,1.6349999999999871,1.639999999999987,1.644999999999987,1.6499999999999868,1.6549999999999867,1.6599999999999866,1.6649999999999865,1.6699999999999864,1.6749999999999863,1.6799999999999862,1.684999999999986,1.689999999999986,1.6949999999999859,1.6999999999999857,1.7049999999999856,1.7099999999999855,1.7149999999999854,1.7199999999999853,1.7249999999999852,1.729999999999985,1.734999999999985,1.739999999999985,1.7449999999999848,1.7499999999999847,1.7549999999999846,1.7599999999999845,1.7649999999999844,1.7699999999999843,1.7749999999999841,1.779999999999984,1.784999999999984,1.7899999999999838,1.7949999999999837,1.7999999999999836,1.8049999999999835,1.8099999999999834,1.8149999999999833,1.8199999999999832,1.824999999999983,1.829999999999983,1.8349999999999829,1.8399999999999828,1.8449999999999827,1.8499999999999825,1.8549999999999824,1.8599999999999823,1.8649999999999822,1.8699999999999821,1.874999999999982,1.879999999999982,1.8849999999999818,1.8899999999999817,1.8949999999999816,1.8999999999999815,1.9049999999999814,1.9099999999999813,1.9149999999999812,1.919999999999981,1.924999999999981,1.9299999999999808,1.9349999999999807,1.9399999999999806,1.9449999999999805,1.9499999999999804,1.9549999999999803,1.9599999999999802,1.96499999999998,1.96999999999998,1.9749999999999799,1.9799999999999798,1.9849999999999797,1.9899999999999796,1.9949999999999795,1.9999999999999793,2.0049999999999795,2.0099999999999794,2.0149999999999793,2.019999999999979,2.024999999999979,2.029999999999979,2.034999999999979,2.0399999999999787,2.0449999999999786,2.0499999999999785,2.0549999999999784,2.0599999999999783,2.064999999999978,2.069999999999978,2.074999999999978,2.079999999999978,2.0849999999999778,2.0899999999999777,2.0949999999999775,2.0999999999999774,2.1049999999999773,2.1099999999999772,2.114999999999977,2.119999999999977,2.124999999999977,2.129999999999977,2.1349999999999767,2.1399999999999766,2.1449999999999765,2.1499999999999764,2.1549999999999763,2.159999999999976,2.164999999999976,2.169999999999976,2.174999999999976,2.1799999999999757,2.1849999999999756,2.1899999999999755,2.1949999999999754,2.1999999999999753,2.204999999999975,2.209999999999975,2.214999999999975,2.219999999999975,2.2249999999999748,2.2299999999999747,2.2349999999999746,2.2399999999999745,2.2449999999999743,2.2499999999999742,2.254999999999974,2.259999999999974,2.264999999999974,2.269999999999974,2.2749999999999737,2.2799999999999736,2.2849999999999735,2.2899999999999734,2.2949999999999733,2.299999999999973,2.304999999999973,2.309999999999973,2.314999999999973,2.3199999999999728,2.3249999999999726,2.3299999999999725,2.3349999999999724,2.3399999999999723,2.344999999999972,2.349999999999972,2.354999999999972,2.359999999999972,2.364999999999972,2.3699999999999717,2.3749999999999716,2.3799999999999715,2.3849999999999714,2.3899999999999713,2.394999999999971,2.399999999999971,2.404999999999971,2.409999999999971,2.4149999999999707,2.4199999999999706,2.4249999999999705,2.4299999999999704,2.4349999999999703,2.43999999999997,2.44499999999997,2.44999999999997,2.45499999999997,2.4599999999999698,2.4649999999999697,2.4699999999999696,2.4749999999999694,2.4799999999999693,2.4849999999999692,2.489999999999969,2.494999999999969,2.499999999999969,2.504999999999969,2.5099999999999687,2.5149999999999686,2.5199999999999685,2.5249999999999684,2.5299999999999683,2.534999999999968,2.539999999999968,2.544999999999968,2.549999999999968,2.5549999999999677,2.5599999999999676,2.5649999999999675,2.5699999999999674,2.5749999999999673,2.579999999999967,2.584999999999967,2.589999999999967,2.594999999999967,2.599999999999967,2.6049999999999667,2.6099999999999666,2.6149999999999665,2.6199999999999664,2.6249999999999662,2.629999999999966,2.634999999999966,2.639999999999966,2.644999999999966,2.6499999999999657,2.6549999999999656,2.6599999999999655,2.6649999999999654,2.6699999999999653,2.674999999999965,2.679999999999965,2.684999999999965,2.689999999999965,2.6949999999999648,2.6999999999999647,2.7049999999999645,2.7099999999999644,2.7149999999999643,2.7199999999999642,2.724999999999964,2.729999999999964,2.734999999999964,2.739999999999964,2.7449999999999637,2.7499999999999636,2.7549999999999635,2.7599999999999634,2.7649999999999633,2.769999999999963,2.774999999999963,2.779999999999963,2.784999999999963,2.7899999999999627,2.7949999999999626,2.7999999999999625,2.8049999999999624,2.8099999999999623,2.814999999999962,2.819999999999962,2.824999999999962,2.829999999999962,2.8349999999999618,2.8399999999999617,2.8449999999999616,2.8499999999999615,2.8549999999999613,2.8599999999999612,2.864999999999961,2.869999999999961,2.874999999999961,2.879999999999961,2.8849999999999607,2.8899999999999606,2.8949999999999605,2.8999999999999604,2.9049999999999603,2.90999999999996,2.91499999999996,2.91999999999996,2.92499999999996,2.9299999999999597,2.9349999999999596,2.9399999999999595,2.9449999999999594,2.9499999999999593,2.954999999999959,2.959999999999959,2.964999999999959,2.969999999999959,2.974999999999959,2.9799999999999587,2.9849999999999586,2.9899999999999585,2.9949999999999584,2.9999999999999583,3.004999999999958,3.009999999999958,3.014999999999958,3.019999999999958,3.0249999999999577,3.0299999999999576,3.0349999999999575,3.0399999999999574,3.0449999999999573,3.049999999999957,3.054999999999957,3.059999999999957,3.064999999999957,3.0699999999999568,3.0749999999999567,3.0799999999999566,3.0849999999999564,3.0899999999999563,3.0949999999999562,3.099999999999956,3.104999999999956,3.109999999999956,3.114999999999956,3.1199999999999557,3.1249999999999556,3.1299999999999555,3.1349999999999554,3.1399999999999553,3.144999999999955,3.149999999999955,3.154999999999955,3.159999999999955,3.1649999999999547,3.1699999999999546,3.1749999999999545,3.1799999999999544,3.1849999999999543,3.189999999999954,3.194999999999954,3.199999999999954,3.204999999999954,3.209999999999954,3.2149999999999537,3.2199999999999536,3.2249999999999535,3.2299999999999534,3.2349999999999532,3.239999999999953,3.244999999999953,3.249999999999953,3.254999999999953,3.2599999999999527,3.2649999999999526,3.2699999999999525,3.2749999999999524,3.2799999999999523,3.284999999999952,3.289999999999952,3.294999999999952,3.299999999999952,3.3049999999999518,3.3099999999999516,3.3149999999999515,3.3199999999999514,3.3249999999999513,3.329999999999951,3.334999999999951,3.339999999999951,3.344999999999951,3.349999999999951,3.3549999999999507,3.3599999999999506,3.3649999999999505,3.3699999999999504,3.3749999999999503,3.37999999999995,3.38499999999995,3.38999999999995,3.39499999999995,3.3999999999999497,3.4049999999999496,3.4099999999999495,3.4149999999999494,3.4199999999999493,3.424999999999949,3.429999999999949,3.434999999999949,3.439999999999949,3.4449999999999488,3.4499999999999487,3.4549999999999486,3.4599999999999485,3.4649999999999483,3.4699999999999482,3.474999999999948,3.479999999999948,3.484999999999948,3.489999999999948,3.4949999999999477,3.4999999999999476,3.5049999999999475,3.5099999999999474,3.5149999999999473,3.519999999999947,3.524999999999947,3.529999999999947,3.534999999999947,3.5399999999999467,3.5449999999999466,3.5499999999999465,3.5549999999999464,3.5599999999999463,3.564999999999946,3.569999999999946,3.574999999999946,3.579999999999946,3.584999999999946,3.5899999999999457,3.5949999999999456,3.5999999999999455,3.6049999999999454,3.6099999999999453,3.614999999999945,3.619999999999945,3.624999999999945,3.629999999999945,3.6349999999999447,3.6399999999999446,3.6449999999999445,3.6499999999999444,3.6549999999999443,3.659999999999944,3.664999999999944,3.669999999999944,3.674999999999944,3.6799999999999438,3.6849999999999437,3.6899999999999435,3.6949999999999434,3.6999999999999433,3.7049999999999432,3.709999999999943,3.714999999999943,3.719999999999943,3.724999999999943,3.7299999999999427,3.7349999999999426,3.7399999999999425,3.7449999999999424,3.7499999999999423,3.754999999999942,3.759999999999942,3.764999999999942,3.769999999999942,3.7749999999999417,3.7799999999999416,3.7849999999999415,3.7899999999999414,3.7949999999999413,3.799999999999941,3.804999999999941,3.809999999999941,3.814999999999941,3.8199999999999408,3.8249999999999407,3.8299999999999406,3.8349999999999405,3.8399999999999403,3.8449999999999402,3.84999999999994,3.85499999999994,3.85999999999994,3.86499999999994,3.8699999999999397,3.8749999999999396,3.8799999999999395,3.8849999999999394,3.8899999999999393,3.894999999999939,3.899999999999939,3.904999999999939,3.909999999999939,3.9149999999999388,3.9199999999999386,3.9249999999999385,3.9299999999999384,3.9349999999999383,3.939999999999938,3.944999999999938,3.949999999999938,3.954999999999938,3.959999999999938,3.9649999999999377,3.9699999999999376,3.9749999999999375,3.9799999999999374,3.9849999999999373,3.989999999999937,3.994999999999937,3.999999999999937,4.004999999999937,4.009999999999937,4.014999999999937,4.0199999999999365,4.024999999999936,4.029999999999936,4.034999999999936,4.039999999999936,4.044999999999936,4.049999999999936,4.054999999999936,4.059999999999936,4.0649999999999356,4.0699999999999354,4.074999999999935,4.079999999999935,4.084999999999935,4.089999999999935,4.094999999999935,4.099999999999935,4.104999999999935,4.109999999999935,4.1149999999999345,4.119999999999934,4.124999999999934,4.129999999999934,4.134999999999934,4.139999999999934,4.144999999999934,4.149999999999934,4.154999999999934,4.1599999999999335,4.164999999999933,4.169999999999933,4.174999999999933,4.179999999999933,4.184999999999933,4.189999999999933,4.194999999999933,4.199999999999933,4.204999999999933,4.2099999999999325,4.214999999999932,4.219999999999932,4.224999999999932,4.229999999999932,4.234999999999932,4.239999999999932,4.244999999999932,4.249999999999932,4.2549999999999315,4.259999999999931,4.264999999999931,4.269999999999931,4.274999999999931,4.279999999999931,4.284999999999931,4.289999999999931,4.294999999999931,4.2999999999999305,4.30499999999993,4.30999999999993,4.31499999999993,4.31999999999993,4.32499999999993,4.32999999999993,4.33499999999993,4.33999999999993,4.34499999999993,4.3499999999999295,4.354999999999929,4.359999999999929,4.364999999999929,4.369999999999929,4.374999999999929,4.379999999999929,4.384999999999929,4.389999999999929,4.3949999999999285,4.399999999999928,4.404999999999928,4.409999999999928,4.414999999999928,4.419999999999928,4.424999999999928,4.429999999999928,4.434999999999928,4.439999999999928,4.4449999999999275,4.449999999999927,4.454999999999927,4.459999999999927,4.464999999999927,4.469999999999927,4.474999999999927,4.479999999999927,4.484999999999927,4.4899999999999265,4.494999999999926,4.499999999999926,4.504999999999926,4.509999999999926,4.514999999999926,4.519999999999926,4.524999999999926,4.529999999999926,4.5349999999999255,4.539999999999925,4.544999999999925,4.549999999999925,4.554999999999925,4.559999999999925,4.564999999999925,4.569999999999925,4.574999999999925,4.579999999999925,4.5849999999999245,4.589999999999924,4.594999999999924,4.599999999999924,4.604999999999924,4.609999999999924,4.614999999999924,4.619999999999924,4.624999999999924,4.6299999999999235,4.634999999999923,4.639999999999923,4.644999999999923,4.649999999999923,4.654999999999923,4.659999999999923,4.664999999999923,4.669999999999923,4.6749999999999226,4.6799999999999224,4.684999999999922,4.689999999999922,4.694999999999922,4.699999999999922,4.704999999999922,4.709999999999922,4.714999999999922,4.719999999999922,4.7249999999999215,4.729999999999921,4.734999999999921,4.739999999999921,4.744999999999921,4.749999999999921,4.754999999999921,4.759999999999921,4.764999999999921,4.7699999999999205,4.77499999999992,4.77999999999992,4.78499999999992,4.78999999999992,4.79499999999992,4.79999999999992,4.80499999999992,4.80999999999992,4.81499999999992,4.8199999999999195,4.824999999999919,4.829999999999919,4.834999999999919,4.839999999999919,4.844999999999919,4.849999999999919,4.854999999999919,4.859999999999919,4.8649999999999185,4.869999999999918,4.874999999999918,4.879999999999918,4.884999999999918,4.889999999999918,4.894999999999918,4.899999999999918,4.904999999999918,4.9099999999999175,4.914999999999917,4.919999999999917,4.924999999999917,4.929999999999917,4.934999999999917,4.939999999999917,4.944999999999917,4.949999999999917,4.954999999999917,4.9599999999999165,4.964999999999916,4.969999999999916,4.974999999999916,4.979999999999916,4.984999999999916,4.989999999999916,4.994999999999916,4.999999999999916,5.0049999999999155]],[\"y\",[4.0,3.99975475,3.99926425,3.9985285,3.9975475,3.99632125,3.9948497499999998,3.993133,3.991171,3.98896375,3.98651125,3.9838135,3.9808705,3.97768225,3.97424875,3.97057,3.966646,3.96247675,3.95806225,3.9534024999999997,3.9484974999999998,3.94334725,3.93795175,3.932311,3.926425,3.92029375,3.91391725,3.9072955,3.9004285,3.89331625,3.88595875,3.8783559999999997,3.8705079999999996,3.8624147499999997,3.85407625,3.8454924999999998,3.8366635,3.82758925,3.81826975,3.808705,3.798895,3.7888397499999997,3.7785392499999997,3.7679934999999998,3.7572024999999996,3.7461662499999995,3.7348847499999995,3.7233579999999997,3.7115859999999996,3.6995687499999996,3.68730625,3.6747984999999996,3.6620454999999996,3.6490472499999997,3.6358037499999996,3.6223149999999995,3.6085809999999996,3.59460175,3.5803772499999997,3.5659075,3.5511925,3.53623225,3.52102675,3.505576,3.48988,3.47393875,3.45775225,3.4413205,3.4246434999999997,3.40772125,3.39055375,3.373141,3.355483,3.33757975,3.31943125,3.3010375,3.2823985,3.26351425,3.24438475,3.22501,3.2053900000000004,3.1855247500000003,3.1654142500000004,3.1450585000000006,3.1244575000000006,3.1036112500000006,3.082519750000001,3.0611830000000007,3.0396010000000007,3.017773750000001,2.9957012500000006,2.9733835000000006,2.9508205000000007,2.9280122500000005,2.9049587500000005,2.8816600000000006,2.8581160000000008,2.8343267500000007,2.8102922500000007,2.786012500000001,2.7614875000000008,2.7367172500000008,2.711701750000001,2.6864410000000007,2.6609350000000007,2.635183750000001,2.6091872500000006,2.5829455000000006,2.5564585000000006,2.529726250000001,2.5027487500000007,2.475526000000001,2.448058000000001,2.420344750000001,2.392386250000001,2.364182500000001,2.335733500000001,2.3070392500000008,2.278099750000001,2.2489150000000007,2.2194850000000006,2.1898097500000007,2.1598892500000004,2.1297235000000003,2.0993125000000004,2.0686562500000005,2.0377547500000004,2.0066080000000004,1.9752160000000003,1.9435787500000004,1.9116962500000003,1.8795685000000002,1.8471955000000002,1.8145772500000001,1.7817137500000002,1.7486050000000002,1.715251,1.6816517500000001,1.64780725,1.6137175,1.5793825,1.5448022499999998,1.5099767499999999,1.4749059999999998,1.4395899999999997,1.4040287499999997,1.3682222499999996,1.3321704999999995,1.2958734999999995,1.2593312499999993,1.2225437499999994,1.1855109999999993,1.1482329999999992,1.1107097499999992,1.072941249999999,1.0349274999999991,0.9966684999999991,0.958164249999999,0.919414749999999,0.8804199999999989,0.8411799999999988,0.8016947499999988,0.7619642499999987,0.7219884999999986,0.6817674999999985,0.6413012499999985,0.6005897499999984,0.5596329999999983,0.5184309999999982,0.47698374999999815,0.4352912499999981,0.393353499999998,0.351170499999998,0.30874224999999794,0.2660687499999979,0.22314999999999788,0.17998599999999784,0.1365767499999978,0.09292224999999778,0.049022499999997755,0.004877499999997731,0,0.02901307500000001,0.057780900000000024,0.08630347500000003,0.11458080000000004,0.14261287500000006,0.17039970000000007,0.19794127500000008,0.2252376000000001,0.2522886750000001,0.2790945000000001,0.30565507500000005,0.33197040000000005,0.358040475,0.3838653,0.40944487500000004,0.43477920000000003,0.45986827500000005,0.48471210000000003,0.509310675,0.533664,0.557772075,0.5816349000000001,0.605252475,0.6286248,0.651751875,0.6746337,0.6972702749999999,0.7196615999999999,0.7418076749999999,0.7637084999999999,0.7853640749999998,0.8067743999999998,0.8279394749999998,0.8488592999999998,0.8695338749999997,0.8899631999999996,0.9101472749999996,0.9300860999999996,0.9497796749999996,0.9692279999999995,0.9884310749999995,1.0073888999999994,1.0261014749999993,1.0445687999999993,1.0627908749999992,1.080767699999999,1.098499274999999,1.115985599999999,1.133226674999999,1.150222499999999,1.166973074999999,1.183478399999999,1.1997384749999989,1.215753299999999,1.231522874999999,1.2470471999999988,1.2623262749999988,1.2773600999999988,1.2921486749999989,1.3066919999999989,1.3209900749999988,1.3350428999999988,1.3488504749999988,1.3624127999999989,1.3757298749999989,1.3888016999999988,1.4016282749999989,1.4142095999999988,1.4265456749999987,1.4386364999999988,1.4504820749999987,1.4620823999999988,1.4734374749999988,1.4845472999999987,1.4954118749999987,1.5060311999999987,1.5164052749999988,1.5265340999999988,1.5364176749999987,1.5460559999999988,1.5554490749999987,1.5645968999999988,1.5734994749999989,1.5821567999999988,1.5905688749999989,1.5987356999999989,1.6066572749999988,1.6143335999999988,1.6217646749999988,1.6289504999999989,1.6358910749999989,1.6425863999999988,1.6490364749999988,1.6552412999999988,1.661200874999999,1.666915199999999,1.6723842749999989,1.677608099999999,1.682586674999999,1.6873199999999988,1.6918080749999989,1.6960508999999988,1.700048474999999,1.703800799999999,1.7073078749999988,1.7105696999999989,1.7135862749999988,1.716357599999999,1.718883674999999,1.7211644999999989,1.723200074999999,1.724990399999999,1.7265354749999988,1.7278352999999989,1.7288898749999988,1.7296991999999989,1.7302632749999989,1.7305820999999988,1.7306556749999988,1.7304839999999988,1.730067074999999,1.729404899999999,1.7284974749999988,1.727344799999999,1.7259468749999989,1.7243036999999988,1.7224152749999988,1.7202815999999987,1.7179026749999988,1.7152784999999988,1.7124090749999987,1.7092943999999988,1.7059344749999987,1.7023292999999988,1.6984788749999988,1.6943831999999988,1.6900422749999988,1.6854560999999988,1.6806246749999987,1.6755479999999987,1.6702260749999986,1.6646588999999987,1.6588464749999987,1.6527887999999986,1.6464858749999987,1.6399376999999986,1.6331442749999987,1.6261055999999987,1.6188216749999986,1.6112924999999987,1.6035180749999987,1.5954983999999985,1.5872334749999986,1.5787232999999985,1.5699678749999986,1.5609671999999986,1.5517212749999985,1.5422300999999985,1.5324936749999984,1.5225119999999985,1.5122850749999985,1.5018128999999985,1.4910954749999985,1.4801327999999985,1.4689248749999986,1.4574716999999986,1.4457732749999985,1.4338295999999986,1.4216406749999986,1.4092064999999985,1.3965270749999985,1.3836023999999985,1.3704324749999985,1.3570172999999985,1.3433568749999985,1.3294511999999985,1.3153002749999985,1.3009040999999986,1.2862626749999986,1.2713759999999985,1.2562440749999986,1.2408668999999986,1.2252444749999987,1.2093767999999987,1.1932638749999986,1.1769056999999987,1.1603022749999987,1.1434535999999986,1.1263596749999987,1.1090204999999986,1.0914360749999987,1.0736063999999987,1.0555314749999987,1.0372112999999987,1.0186458749999987,0.9998351999999987,0.9807792749999987,0.9614780999999988,0.9419316749999989,0.9221399999999988,0.9021030749999989,0.8818208999999989,0.861293474999999,0.840520799999999,0.819502874999999,0.798239699999999,0.776731274999999,0.754977599999999,0.732978674999999,0.710734499999999,0.6882450749999991,0.6655103999999991,0.642530474999999,0.6193052999999991,0.5958348749999991,0.572119199999999,0.548158274999999,0.523952099999999,0.49950067499999906,0.47480399999999906,0.4498620749999991,0.4246748999999991,0.3992424749999991,0.3735647999999991,0.3476418749999991,0.3214736999999991,0.2950602749999991,0.2684015999999991,0.24149767499999905,0.21434849999999905,0.18695407499999905,0.15931439999999902,0.13142947499999902,0.103299299999999,0.07492387499999897,0.046303199999998955,0.017437274999998933,0,0.019081676250000016,0.03791810250000004,0.05650927875000006,0.07485520500000008,0.0929558812500001,0.11081130750000012,0.12842148375000015,0.14578641000000017,0.1629060862500002,0.1797805125000002,0.19640968875000023,0.21279361500000027,0.2289322912500003,0.24482571750000034,0.26047389375000035,0.27587682000000036,0.2910344962500004,0.30594692250000044,0.32061409875000046,0.3350360250000005,0.34921270125000053,0.3631441275000006,0.3768303037500006,0.39027123000000064,0.4034669062500007,0.41641733250000074,0.4291225087500008,0.44158243500000083,0.4537971112500009,0.4657665375000009,0.47749071375000096,0.488969640000001,0.500203316250001,0.5111917425000011,0.5219349187500012,0.5324328450000012,0.5426855212500012,0.5526929475000013,0.5624551237500014,0.5719720500000014,0.5812437262500014,0.5902701525000015,0.5990513287500016,0.6075872550000017,0.6158779312500017,0.6239233575000017,0.6317235337500018,0.6392784600000019,0.6465881362500019,0.6536525625000019,0.660471738750002,0.6670456650000021,0.6733743412500021,0.6794577675000021,0.6852959437500021,0.6908888700000022,0.6962365462500023,0.7013389725000023,0.7061961487500024,0.7108080750000024,0.7151747512500025,0.7192961775000025,0.7231723537500026,0.7268032800000026,0.7301889562500027,0.7333293825000027,0.7362245587500027,0.7388744850000027,0.7412791612500028,0.7434385875000029,0.7453527637500029,0.747021690000003,0.748445366250003,0.7496237925000031,0.7505569687500031,0.7512448950000031,0.7516875712500032,0.7518849975000033,0.7518371737500033,0.7515441000000033,0.7510057762500033,0.7502222025000034,0.7491933787500035,0.7479193050000035,0.7463999812500035,0.7446354075000036,0.7426255837500036,0.7403705100000036,0.7378701862500037,0.7351246125000037,0.7321337887500038,0.7288977150000039,0.7254163912500039,0.7216898175000039,0.717717993750004,0.7135009200000041,0.7090385962500041,0.7043310225000041,0.6993781987500042,0.6941801250000043,0.6887368012500042,0.6830482275000043,0.6771144037500043,0.6709353300000044,0.6645110062500045,0.6578414325000045,0.6509266087500045,0.6437665350000046,0.6363612112500047,0.6287106375000047,0.6208148137500047,0.6126737400000047,0.6042874162500048,0.5956558425000048,0.5867790187500048,0.5776569450000049,0.5682896212500049,0.558677047500005,0.548819223750005,0.5387161500000051,0.5283678262500051,0.5177742525000052,0.5069354287500052,0.4958513550000052,0.48452203125000526,0.47294745750000533,0.4611276337500054,0.44906256000000544,0.4367522362500055,0.42419666250000554,0.41139583875000557,0.39834976500000563,0.38505844125000566,0.3715218675000057,0.3577400437500058,0.34371297000000584,0.3294406462500059,0.31492307250000595,0.300160248750006,0.28515217500000606,0.2698988512500061,0.25440027750000616,0.23865645375000621,0.22266738000000627,0.20643305625000632,0.18995348250000638,0.17322865875000643,0.1562585850000065,0.13904326125000657,0.12158268750000664,0.10387686375000671,0.08592579000000677,0.06772946625000684,0.04928789250000691,0.030601068750006982,0.011668995000007055,0,0.012624672937499953,0.025004095874999906,0.03713826881249986,0.04902719174999982,0.06067086468749977,0.07206928762499973,0.08322246056249968,0.09413038349999964,0.1047930564374996,0.11521047937499956,0.12538265231249954,0.1353095752499995,0.14499124818749948,0.15442767112499944,0.1636188440624994,0.17256476699999937,0.18126543993749933,0.18972086287499929,0.19793103581249924,0.2058959587499992,0.21361563168749914,0.2210900546249991,0.22831922756249906,0.23530315049999903,0.242041823437499,0.24853524637499896,0.2547834193124989,0.26078634224999886,0.2665440151874988,0.2720564381249988,0.27732361106249875,0.28234553399999873,0.2871222069374987,0.29165362987499865,0.2959398028124986,0.29998072574999857,0.3037763986874985,0.30732682162499847,0.3106319945624984,0.31369191749999836,0.3165065904374983,0.31907601337499825,0.3214001863124982,0.3234791092499982,0.32531278218749815,0.3269012051249981,0.32824437806249807,0.329342300999998,0.33019497393749797,0.3308023968749979,0.33116456981249787,0.3312814927499978,0.33115316568749775,0.33077958862499773,0.3301607615624977,0.32929668449999766,0.3281873574374976,0.3268327803749976,0.3252329533124975,0.3233878762499975,0.3212975491874974,0.3189619721249974,0.3163811450624973,0.3135550679999973,0.31048374093749725,0.3071671638749972,0.3036053368124972,0.29979825974999713,0.2957459326874971,0.29144835562499705,0.286905528562497,0.28211745149999695,0.2770841244374969,0.27180554737499685,0.2662817203124968,0.26051264324999673,0.2544983161874967,0.24823873912499664,0.2417339120624966,0.23498383499999653,0.22798850793749648,0.22074793087499642,0.21326210381249636,0.20553102674999632,0.19755469968749628,0.18933312262499624,0.1808662955624962,0.17215421849999615,0.1631968914374961,0.15399431437499606,0.144546487312496,0.13485341024999595,0.12491508318749589,0.11473150612499584,0.1043026790624958,0.09362860199999574,0.08270927493749569,0.07154469787499565,0.060134870812495606,0.04847979374999556,0.03657946668749552,0.024433889624995476,0.012043062562495436,0,0.008372862590625026,0.01650047518125005,0.024382837771875075,0.0320199503625001,0.039411812953125125,0.04655842554375015,0.05345978813437517,0.0601159007250002,0.06652676331562522,0.07269237590625025,0.07861273849687526,0.08428785108750028,0.08971771367812531,0.09490232626875034,0.09984168885937536,0.10453580145000038,0.1089846640406254,0.11318827663125042,0.11714663922187545,0.12085975181250047,0.1243276144031255,0.12755022699375052,0.13052758958437555,0.13325970217500058,0.1357465647656256,0.13798817735625063,0.13998453994687565,0.14173565253750067,0.1432415151281257,0.1445021277187507,0.14551749030937572,0.14628760290000073,0.14681246549062574,0.14709207808125077,0.1471264406718758,0.14691555326250083,0.14645941585312586,0.14575802844375088,0.1448113910343759,0.14361950362500092,0.14218236621562594,0.14049997880625095,0.13857234139687596,0.13639945398750097,0.133981316578126,0.13131792916875104,0.12840929175937607,0.1252554043500011,0.12185626694062612,0.11821187953125115,0.11432224212187617,0.11018735471250118,0.1058072173031262,0.10118182989375121,0.09631119248437624,0.09119530507500126,0.08583416766562628,0.0802277802562513,0.07437614284687631,0.06827925543750132,0.06193711802812634,0.055349730618751355,0.048517093209376375,0.04143920580000139,0.034116068390626406,0.026547680981251424,0.01873404357187644,0.010675156162501458,0.002371018753126475,0,0.0057165143160937395,0.011187778632187478,0.016413792948281217,0.021394557264374958,0.026130071580468695,0.030620335896562434,0.034865350212656174,0.03886511452874991,0.042619628844843646,0.046128893160937386,0.04939290747703112,0.05241167179312486,0.0551851861092186,0.05771345042531233,0.05999646474140607,0.06203422905749981,0.06382674337359355,0.06537400768968729,0.06667602200578103,0.06773278632187477,0.0685443006379685,0.06911056495406223,0.06943157927015597,0.06950734358624971,0.06933785790234345,0.06892312221843719,0.06826313653453092,0.06735790085062465,0.0662074151667184,0.06481167948281213,0.06317069379890587,0.06128445811499961,0.05915297243109335,0.056776236747187084,0.05415425106328082,0.05128701537937456,0.048174529695468295,0.04481679401156203,0.04121380832765577,0.037365572643749505,0.03327208695984324,0.028933351275936974,0.02434936559203071,0.019520129908124448,0.014445644224218183,0.009125908540311919,0.003560922856405653,0,0.003936065694539073,0.007626881389078145,0.011072447083617216,0.014272762778156289,0.017227828472695363,0.019937644167234436,0.022402209861773506,0.024621525556312578,0.02659559125085165,0.02832440694539072,0.029807972639929792,0.031046288334468864,0.032039354029007934,0.032787169723547005,0.033289735418086074,0.03354705111262515,0.03355911680716422,0.03332593250170329,0.032847498196242365,0.032123813890781436,0.031154879585320507,0.02994069527985958,0.028481260974398653,0.026776576668937725,0.024826642363476797,0.02263145805801587,0.02019102375255494,0.017505339447094013,0.014574405141633084,0.011398220836172156,0.007976786530711228,0.004310102225250299,0.00039816791978937015,0,0.0028615822985496044,0.005477914597099209,0.007848996895648813,0.009974829194198417,0.011855411492748021,0.013490743791297626,0.01488082608984723,0.016025658388396834,0.01692524068694644,0.017579572985496044,0.017988655284045647,0.01815248758259525,0.018071069881144857,0.01774440217969446,0.017172484478244064,0.01635531677679367,0.015292899075343274,0.013985231373892877,0.012432313672442482,0.010634145970992086,0.00859072826954169,0.0063020605680912944,0.0037681428666408987,0.0009889751651905028,0,0.0021252840059427574,0.004005318011885515,0.005640102017828273,0.007029636023771031,0.008173920029713788,0.009072954035656547,0.009726738041599304,0.010135272047542061,0.01029855605348482,0.010216590059427577,0.009889374065370334,0.009316908071313091,0.008499192077255848,0.007436226083198606,0.006128010089141363,0.004574544095084121,0.0027758281010268784,0.0007318621069696361,0,0.0016474028961372075,0.003049555792274415,0.004206458688411623,0.00511811158454883,0.005784514480686038,0.006205667376823245,0.0063815702729604525,0.00631222316909766,0.005997626065234868,0.005437778961372075,0.004632681857509282,0.0035823347536464894,0.0022867376497836965,0.0007458905459209037,0,0.0013203756175108152,0.00239550123502163,0.003225376852532445,0.0038100024700432602,0.0041493780875540755,0.00424350370506489,0.004092379322575705,0.00369600494008652,0.0030543805575973353,0.0021675061751081502,0.0010353817926189652,0,0.0010547058486179703,0.0018641616972359405,0.0024283675458539105,0.002747323394471881,0.002821029243089851,0.002649485091707821,0.002232690940325791,0.0015706467889437612,0.0006633526375617312,0,0.0009085661983983196,0.001571882396796639,0.0019899485951949585,0.002162764793593278,0.0020903309919915974,0.001772647190389917,0.0012097133887882363,0.00040152958718655553,0,0.0008441444710410925,0.001443038942082185,0.0017966834131232774,0.0019050778841643698,0.0017682223552054621,0.0013861168262465544,0.0007587612972876468,0,0.00072660609382329,0.00120796218764658,0.00144406828146987,0.0014349243752931598,0.0011805304691164496,0.0006808865629397395,0,0.0006435935390148617,0.0010419370780297235,0.001195030617044585,0.0011028741560594466,0.0007654676950743083,0.00018281123408916988,0,0.0006975516996403402,0.0011498533992806803,0.0013569050989210203,0.0013187067985613603,0.0010352584982017002,0.0005065601978420403,0,0.0006624788952337791,0.0010797077904675582,0.0012516866857013374,0.0011784155809351166,0.0008598944761688957,0.0002961233714026747,0,0.0006852762180980437,0.0011253024361960874,0.0013200786542941312,0.001269604872392175,0.0009738810904902185,0.0004329073085882621,0,0.0006704579582362718,0.0010956659164725435,0.0012756238747088152,0.0012103318329450869,0.0008997897911813585,0.00034399774941763013,0,0.0006800898271464236,0.001114929654292847,0.0013045194814392705,0.0012488593085856938,0.0009479491357321173,0.0004017889628785407,0,0.0006738291123548249,0.0011024082247096498,0.0012857373370644745,0.0012238164494192993,0.000916645561774124,0.00036422467412894864,0,0.0006778985769693641,0.0011105471539387282,0.0012979457309080923,0.0012400943078774563,0.0009369928848468204,0.00038864146181618426,0,0.0006752534249699135,0.001105256849939827,0.0012900102749097404,0.0012295136998796538,0.0009237671248495672,0.00037277054981948066,0]],[\"t\",[0.005,0.01,0.015,0.02,0.025,0.030000000000000002,0.035,0.04,0.045,0.049999999999999996,0.05499999999999999,0.05999999999999999,0.06499999999999999,0.06999999999999999,0.075,0.08,0.085,0.09000000000000001,0.09500000000000001,0.10000000000000002,0.10500000000000002,0.11000000000000003,0.11500000000000003,0.12000000000000004,0.12500000000000003,0.13000000000000003,0.13500000000000004,0.14000000000000004,0.14500000000000005,0.15000000000000005,0.15500000000000005,0.16000000000000006,0.16500000000000006,0.17000000000000007,0.17500000000000007,0.18000000000000008,0.18500000000000008,0.19000000000000009,0.1950000000000001,0.2000000000000001,0.2050000000000001,0.2100000000000001,0.2150000000000001,0.2200000000000001,0.22500000000000012,0.23000000000000012,0.23500000000000013,0.24000000000000013,0.24500000000000013,0.2500000000000001,0.2550000000000001,0.2600000000000001,0.2650000000000001,0.27000000000000013,0.27500000000000013,0.28000000000000014,0.28500000000000014,0.29000000000000015,0.29500000000000015,0.30000000000000016,0.30500000000000016,0.31000000000000016,0.31500000000000017,0.3200000000000002,0.3250000000000002,0.3300000000000002,0.3350000000000002,0.3400000000000002,0.3450000000000002,0.3500000000000002,0.3550000000000002,0.3600000000000002,0.3650000000000002,0.3700000000000002,0.3750000000000002,0.3800000000000002,0.38500000000000023,0.39000000000000024,0.39500000000000024,0.40000000000000024,0.40500000000000025,0.41000000000000025,0.41500000000000026,0.42000000000000026,0.42500000000000027,0.43000000000000027,0.4350000000000003,0.4400000000000003,0.4450000000000003,0.4500000000000003,0.4550000000000003,0.4600000000000003,0.4650000000000003,0.4700000000000003,0.4750000000000003,0.4800000000000003,0.4850000000000003,0.4900000000000003,0.49500000000000033,0.5000000000000003,0.5050000000000003,0.5100000000000003,0.5150000000000003,0.5200000000000004,0.5250000000000004,0.5300000000000004,0.5350000000000004,0.5400000000000004,0.5450000000000004,0.5500000000000004,0.5550000000000004,0.5600000000000004,0.5650000000000004,0.5700000000000004,0.5750000000000004,0.5800000000000004,0.5850000000000004,0.5900000000000004,0.5950000000000004,0.6000000000000004,0.6050000000000004,0.6100000000000004,0.6150000000000004,0.6200000000000004,0.6250000000000004,0.6300000000000004,0.6350000000000005,0.6400000000000005,0.6450000000000005,0.6500000000000005,0.6550000000000005,0.6600000000000005,0.6650000000000005,0.6700000000000005,0.6750000000000005,0.6800000000000005,0.6850000000000005,0.6900000000000005,0.6950000000000005,0.7000000000000005,0.7050000000000005,0.7100000000000005,0.7150000000000005,0.7200000000000005,0.7250000000000005,0.7300000000000005,0.7350000000000005,0.7400000000000005,0.7450000000000006,0.7500000000000006,0.7550000000000006,0.7600000000000006,0.7650000000000006,0.7700000000000006,0.7750000000000006,0.7800000000000006,0.7850000000000006,0.7900000000000006,0.7950000000000006,0.8000000000000006,0.8050000000000006,0.8100000000000006,0.8150000000000006,0.8200000000000006,0.8250000000000006,0.8300000000000006,0.8350000000000006,0.8400000000000006,0.8450000000000006,0.8500000000000006,0.8550000000000006,0.8600000000000007,0.8650000000000007,0.8700000000000007,0.8750000000000007,0.8800000000000007,0.8850000000000007,0.8900000000000007,0.8950000000000007,0.9000000000000007,0.9050000000000007,0.9100000000000007,0.9150000000000007,0.9200000000000007,0.9250000000000007,0.9300000000000007,0.9350000000000007,0.9400000000000007,0.9450000000000007,0.9500000000000007,0.9550000000000007,0.9600000000000007,0.9650000000000007,0.9700000000000008,0.9750000000000008,0.9800000000000008,0.9850000000000008,0.9900000000000008,0.9950000000000008,1.0000000000000007,1.0050000000000006,1.0100000000000005,1.0150000000000003,1.0200000000000002,1.0250000000000001,1.03,1.035,1.0399999999999998,1.0449999999999997,1.0499999999999996,1.0549999999999995,1.0599999999999994,1.0649999999999993,1.0699999999999992,1.074999999999999,1.079999999999999,1.0849999999999989,1.0899999999999987,1.0949999999999986,1.0999999999999985,1.1049999999999984,1.1099999999999983,1.1149999999999982,1.119999999999998,1.124999999999998,1.129999999999998,1.1349999999999978,1.1399999999999977,1.1449999999999976,1.1499999999999975,1.1549999999999974,1.1599999999999973,1.1649999999999971,1.169999999999997,1.174999999999997,1.1799999999999968,1.1849999999999967,1.1899999999999966,1.1949999999999965,1.1999999999999964,1.2049999999999963,1.2099999999999962,1.214999999999996,1.219999999999996,1.2249999999999959,1.2299999999999958,1.2349999999999957,1.2399999999999956,1.2449999999999954,1.2499999999999953,1.2549999999999952,1.2599999999999951,1.264999999999995,1.269999999999995,1.2749999999999948,1.2799999999999947,1.2849999999999946,1.2899999999999945,1.2949999999999944,1.2999999999999943,1.3049999999999942,1.309999999999994,1.314999999999994,1.3199999999999938,1.3249999999999937,1.3299999999999936,1.3349999999999935,1.3399999999999934,1.3449999999999933,1.3499999999999932,1.354999999999993,1.359999999999993,1.3649999999999929,1.3699999999999928,1.3749999999999927,1.3799999999999926,1.3849999999999925,1.3899999999999924,1.3949999999999922,1.3999999999999921,1.404999999999992,1.409999999999992,1.4149999999999918,1.4199999999999917,1.4249999999999916,1.4299999999999915,1.4349999999999914,1.4399999999999913,1.4449999999999912,1.449999999999991,1.454999999999991,1.4599999999999909,1.4649999999999908,1.4699999999999906,1.4749999999999905,1.4799999999999904,1.4849999999999903,1.4899999999999902,1.4949999999999901,1.49999999999999,1.50499999999999,1.5099999999999898,1.5149999999999897,1.5199999999999896,1.5249999999999895,1.5299999999999894,1.5349999999999893,1.5399999999999892,1.544999999999989,1.549999999999989,1.5549999999999888,1.5599999999999887,1.5649999999999886,1.5699999999999885,1.5749999999999884,1.5799999999999883,1.5849999999999882,1.589999999999988,1.594999999999988,1.5999999999999879,1.6049999999999878,1.6099999999999877,1.6149999999999876,1.6199999999999875,1.6249999999999873,1.6299999999999872,1.6349999999999871,1.639999999999987,1.644999999999987,1.6499999999999868,1.6549999999999867,1.6599999999999866,1.6649999999999865,1.6699999999999864,1.6749999999999863,1.6799999999999862,1.684999999999986,1.689999999999986,1.6949999999999859,1.6999999999999857,1.7049999999999856,1.7099999999999855,1.7149999999999854,1.7199999999999853,1.7249999999999852,1.729999999999985,1.734999999999985,1.739999999999985,1.7449999999999848,1.7499999999999847,1.7549999999999846,1.7599999999999845,1.7649999999999844,1.7699999999999843,1.7749999999999841,1.779999999999984,1.784999999999984,1.7899999999999838,1.7949999999999837,1.7999999999999836,1.8049999999999835,1.8099999999999834,1.8149999999999833,1.8199999999999832,1.824999999999983,1.829999999999983,1.8349999999999829,1.8399999999999828,1.8449999999999827,1.8499999999999825,1.8549999999999824,1.8599999999999823,1.8649999999999822,1.8699999999999821,1.874999999999982,1.879999999999982,1.8849999999999818,1.8899999999999817,1.8949999999999816,1.8999999999999815,1.9049999999999814,1.9099999999999813,1.9149999999999812,1.919999999999981,1.924999999999981,1.9299999999999808,1.9349999999999807,1.9399999999999806,1.9449999999999805,1.9499999999999804,1.9549999999999803,1.9599999999999802,1.96499999999998,1.96999999999998,1.9749999999999799,1.9799999999999798,1.9849999999999797,1.9899999999999796,1.9949999999999795,1.9999999999999793,2.0049999999999795,2.0099999999999794,2.0149999999999793,2.019999999999979,2.024999999999979,2.029999999999979,2.034999999999979,2.0399999999999787,2.0449999999999786,2.0499999999999785,2.0549999999999784,2.0599999999999783,2.064999999999978,2.069999999999978,2.074999999999978,2.079999999999978,2.0849999999999778,2.0899999999999777,2.0949999999999775,2.0999999999999774,2.1049999999999773,2.1099999999999772,2.114999999999977,2.119999999999977,2.124999999999977,2.129999999999977,2.1349999999999767,2.1399999999999766,2.1449999999999765,2.1499999999999764,2.1549999999999763,2.159999999999976,2.164999999999976,2.169999999999976,2.174999999999976,2.1799999999999757,2.1849999999999756,2.1899999999999755,2.1949999999999754,2.1999999999999753,2.204999999999975,2.209999999999975,2.214999999999975,2.219999999999975,2.2249999999999748,2.2299999999999747,2.2349999999999746,2.2399999999999745,2.2449999999999743,2.2499999999999742,2.254999999999974,2.259999999999974,2.264999999999974,2.269999999999974,2.2749999999999737,2.2799999999999736,2.2849999999999735,2.2899999999999734,2.2949999999999733,2.299999999999973,2.304999999999973,2.309999999999973,2.314999999999973,2.3199999999999728,2.3249999999999726,2.3299999999999725,2.3349999999999724,2.3399999999999723,2.344999999999972,2.349999999999972,2.354999999999972,2.359999999999972,2.364999999999972,2.3699999999999717,2.3749999999999716,2.3799999999999715,2.3849999999999714,2.3899999999999713,2.394999999999971,2.399999999999971,2.404999999999971,2.409999999999971,2.4149999999999707,2.4199999999999706,2.4249999999999705,2.4299999999999704,2.4349999999999703,2.43999999999997,2.44499999999997,2.44999999999997,2.45499999999997,2.4599999999999698,2.4649999999999697,2.4699999999999696,2.4749999999999694,2.4799999999999693,2.4849999999999692,2.489999999999969,2.494999999999969,2.499999999999969,2.504999999999969,2.5099999999999687,2.5149999999999686,2.5199999999999685,2.5249999999999684,2.5299999999999683,2.534999999999968,2.539999999999968,2.544999999999968,2.549999999999968,2.5549999999999677,2.5599999999999676,2.5649999999999675,2.5699999999999674,2.5749999999999673,2.579999999999967,2.584999999999967,2.589999999999967,2.594999999999967,2.599999999999967,2.6049999999999667,2.6099999999999666,2.6149999999999665,2.6199999999999664,2.6249999999999662,2.629999999999966,2.634999999999966,2.639999999999966,2.644999999999966,2.6499999999999657,2.6549999999999656,2.6599999999999655,2.6649999999999654,2.6699999999999653,2.674999999999965,2.679999999999965,2.684999999999965,2.689999999999965,2.6949999999999648,2.6999999999999647,2.7049999999999645,2.7099999999999644,2.7149999999999643,2.7199999999999642,2.724999999999964,2.729999999999964,2.734999999999964,2.739999999999964,2.7449999999999637,2.7499999999999636,2.7549999999999635,2.7599999999999634,2.7649999999999633,2.769999999999963,2.774999999999963,2.779999999999963,2.784999999999963,2.7899999999999627,2.7949999999999626,2.7999999999999625,2.8049999999999624,2.8099999999999623,2.814999999999962,2.819999999999962,2.824999999999962,2.829999999999962,2.8349999999999618,2.8399999999999617,2.8449999999999616,2.8499999999999615,2.8549999999999613,2.8599999999999612,2.864999999999961,2.869999999999961,2.874999999999961,2.879999999999961,2.8849999999999607,2.8899999999999606,2.8949999999999605,2.8999999999999604,2.9049999999999603,2.90999999999996,2.91499999999996,2.91999999999996,2.92499999999996,2.9299999999999597,2.9349999999999596,2.9399999999999595,2.9449999999999594,2.9499999999999593,2.954999999999959,2.959999999999959,2.964999999999959,2.969999999999959,2.974999999999959,2.9799999999999587,2.9849999999999586,2.9899999999999585,2.9949999999999584,2.9999999999999583,3.004999999999958,3.009999999999958,3.014999999999958,3.019999999999958,3.0249999999999577,3.0299999999999576,3.0349999999999575,3.0399999999999574,3.0449999999999573,3.049999999999957,3.054999999999957,3.059999999999957,3.064999999999957,3.0699999999999568,3.0749999999999567,3.0799999999999566,3.0849999999999564,3.0899999999999563,3.0949999999999562,3.099999999999956,3.104999999999956,3.109999999999956,3.114999999999956,3.1199999999999557,3.1249999999999556,3.1299999999999555,3.1349999999999554,3.1399999999999553,3.144999999999955,3.149999999999955,3.154999999999955,3.159999999999955,3.1649999999999547,3.1699999999999546,3.1749999999999545,3.1799999999999544,3.1849999999999543,3.189999999999954,3.194999999999954,3.199999999999954,3.204999999999954,3.209999999999954,3.2149999999999537,3.2199999999999536,3.2249999999999535,3.2299999999999534,3.2349999999999532,3.239999999999953,3.244999999999953,3.249999999999953,3.254999999999953,3.2599999999999527,3.2649999999999526,3.2699999999999525,3.2749999999999524,3.2799999999999523,3.284999999999952,3.289999999999952,3.294999999999952,3.299999999999952,3.3049999999999518,3.3099999999999516,3.3149999999999515,3.3199999999999514,3.3249999999999513,3.329999999999951,3.334999999999951,3.339999999999951,3.344999999999951,3.349999999999951,3.3549999999999507,3.3599999999999506,3.3649999999999505,3.3699999999999504,3.3749999999999503,3.37999999999995,3.38499999999995,3.38999999999995,3.39499999999995,3.3999999999999497,3.4049999999999496,3.4099999999999495,3.4149999999999494,3.4199999999999493,3.424999999999949,3.429999999999949,3.434999999999949,3.439999999999949,3.4449999999999488,3.4499999999999487,3.4549999999999486,3.4599999999999485,3.4649999999999483,3.4699999999999482,3.474999999999948,3.479999999999948,3.484999999999948,3.489999999999948,3.4949999999999477,3.4999999999999476,3.5049999999999475,3.5099999999999474,3.5149999999999473,3.519999999999947,3.524999999999947,3.529999999999947,3.534999999999947,3.5399999999999467,3.5449999999999466,3.5499999999999465,3.5549999999999464,3.5599999999999463,3.564999999999946,3.569999999999946,3.574999999999946,3.579999999999946,3.584999999999946,3.5899999999999457,3.5949999999999456,3.5999999999999455,3.6049999999999454,3.6099999999999453,3.614999999999945,3.619999999999945,3.624999999999945,3.629999999999945,3.6349999999999447,3.6399999999999446,3.6449999999999445,3.6499999999999444,3.6549999999999443,3.659999999999944,3.664999999999944,3.669999999999944,3.674999999999944,3.6799999999999438,3.6849999999999437,3.6899999999999435,3.6949999999999434,3.6999999999999433,3.7049999999999432,3.709999999999943,3.714999999999943,3.719999999999943,3.724999999999943,3.7299999999999427,3.7349999999999426,3.7399999999999425,3.7449999999999424,3.7499999999999423,3.754999999999942,3.759999999999942,3.764999999999942,3.769999999999942,3.7749999999999417,3.7799999999999416,3.7849999999999415,3.7899999999999414,3.7949999999999413,3.799999999999941,3.804999999999941,3.809999999999941,3.814999999999941,3.8199999999999408,3.8249999999999407,3.8299999999999406,3.8349999999999405,3.8399999999999403,3.8449999999999402,3.84999999999994,3.85499999999994,3.85999999999994,3.86499999999994,3.8699999999999397,3.8749999999999396,3.8799999999999395,3.8849999999999394,3.8899999999999393,3.894999999999939,3.899999999999939,3.904999999999939,3.909999999999939,3.9149999999999388,3.9199999999999386,3.9249999999999385,3.9299999999999384,3.9349999999999383,3.939999999999938,3.944999999999938,3.949999999999938,3.954999999999938,3.959999999999938,3.9649999999999377,3.9699999999999376,3.9749999999999375,3.9799999999999374,3.9849999999999373,3.989999999999937,3.994999999999937,3.999999999999937,4.004999999999937,4.009999999999937,4.014999999999937,4.0199999999999365,4.024999999999936,4.029999999999936,4.034999999999936,4.039999999999936,4.044999999999936,4.049999999999936,4.054999999999936,4.059999999999936,4.0649999999999356,4.0699999999999354,4.074999999999935,4.079999999999935,4.084999999999935,4.089999999999935,4.094999999999935,4.099999999999935,4.104999999999935,4.109999999999935,4.1149999999999345,4.119999999999934,4.124999999999934,4.129999999999934,4.134999999999934,4.139999999999934,4.144999999999934,4.149999999999934,4.154999999999934,4.1599999999999335,4.164999999999933,4.169999999999933,4.174999999999933,4.179999999999933,4.184999999999933,4.189999999999933,4.194999999999933,4.199999999999933,4.204999999999933,4.2099999999999325,4.214999999999932,4.219999999999932,4.224999999999932,4.229999999999932,4.234999999999932,4.239999999999932,4.244999999999932,4.249999999999932,4.2549999999999315,4.259999999999931,4.264999999999931,4.269999999999931,4.274999999999931,4.279999999999931,4.284999999999931,4.289999999999931,4.294999999999931,4.2999999999999305,4.30499999999993,4.30999999999993,4.31499999999993,4.31999999999993,4.32499999999993,4.32999999999993,4.33499999999993,4.33999999999993,4.34499999999993,4.3499999999999295,4.354999999999929,4.359999999999929,4.364999999999929,4.369999999999929,4.374999999999929,4.379999999999929,4.384999999999929,4.389999999999929,4.3949999999999285,4.399999999999928,4.404999999999928,4.409999999999928,4.414999999999928,4.419999999999928,4.424999999999928,4.429999999999928,4.434999999999928,4.439999999999928,4.4449999999999275,4.449999999999927,4.454999999999927,4.459999999999927,4.464999999999927,4.469999999999927,4.474999999999927,4.479999999999927,4.484999999999927,4.4899999999999265,4.494999999999926,4.499999999999926,4.504999999999926,4.509999999999926,4.514999999999926,4.519999999999926,4.524999999999926,4.529999999999926,4.5349999999999255,4.539999999999925,4.544999999999925,4.549999999999925,4.554999999999925,4.559999999999925,4.564999999999925,4.569999999999925,4.574999999999925,4.579999999999925,4.5849999999999245,4.589999999999924,4.594999999999924,4.599999999999924,4.604999999999924,4.609999999999924,4.614999999999924,4.619999999999924,4.624999999999924,4.6299999999999235,4.634999999999923,4.639999999999923,4.644999999999923,4.649999999999923,4.654999999999923,4.659999999999923,4.664999999999923,4.669999999999923,4.6749999999999226,4.6799999999999224,4.684999999999922,4.689999999999922,4.694999999999922,4.699999999999922,4.704999999999922,4.709999999999922,4.714999999999922,4.719999999999922,4.7249999999999215,4.729999999999921,4.734999999999921,4.739999999999921,4.744999999999921,4.749999999999921,4.754999999999921,4.759999999999921,4.764999999999921,4.7699999999999205,4.77499999999992,4.77999999999992,4.78499999999992,4.78999999999992,4.79499999999992,4.79999999999992,4.80499999999992,4.80999999999992,4.81499999999992,4.8199999999999195,4.824999999999919,4.829999999999919,4.834999999999919,4.839999999999919,4.844999999999919,4.849999999999919,4.854999999999919,4.859999999999919,4.8649999999999185,4.869999999999918,4.874999999999918,4.879999999999918,4.884999999999918,4.889999999999918,4.894999999999918,4.899999999999918,4.904999999999918,4.9099999999999175,4.914999999999917,4.919999999999917,4.924999999999917,4.929999999999917,4.934999999999917,4.939999999999917,4.944999999999917,4.949999999999917,4.954999999999917,4.9599999999999165,4.964999999999916,4.969999999999916,4.974999999999916,4.979999999999916,4.984999999999916,4.989999999999916,4.994999999999916,4.999999999999916,5.0049999999999155]]]}}},\"view\":{\"type\":\"object\",\"name\":\"CDSView\",\"id\":\"p1066\",\"attributes\":{\"filter\":{\"type\":\"object\",\"name\":\"AllIndices\",\"id\":\"p1067\"}}},\"glyph\":{\"type\":\"object\",\"name\":\"Line\",\"id\":\"p1062\",\"attributes\":{\"x\":{\"type\":\"field\",\"field\":\"x\"},\"y\":{\"type\":\"field\",\"field\":\"y\"},\"line_color\":\"mediumblue\",\"line_alpha\":0.6,\"line_width\":3}},\"nonselection_glyph\":{\"type\":\"object\",\"name\":\"Line\",\"id\":\"p1063\",\"attributes\":{\"x\":{\"type\":\"field\",\"field\":\"x\"},\"y\":{\"type\":\"field\",\"field\":\"y\"},\"line_color\":\"mediumblue\",\"line_alpha\":0.1,\"line_width\":3}},\"muted_glyph\":{\"type\":\"object\",\"name\":\"Line\",\"id\":\"p1064\",\"attributes\":{\"x\":{\"type\":\"field\",\"field\":\"x\"},\"y\":{\"type\":\"field\",\"field\":\"y\"},\"line_color\":\"mediumblue\",\"line_alpha\":0.2,\"line_width\":3}}}},{\"type\":\"object\",\"name\":\"GlyphRenderer\",\"id\":\"p1076\",\"attributes\":{\"data_source\":{\"type\":\"object\",\"name\":\"ColumnDataSource\",\"id\":\"p1005\",\"attributes\":{\"selected\":{\"type\":\"object\",\"name\":\"Selection\",\"id\":\"p1006\",\"attributes\":{\"indices\":[],\"line_indices\":[]}},\"selection_policy\":{\"type\":\"object\",\"name\":\"UnionRenderers\",\"id\":\"p1007\"},\"data\":{\"type\":\"map\",\"entries\":[[\"x\",[0.05499999999999999]],[\"y\",[3.98651125]]]}}},\"view\":{\"type\":\"object\",\"name\":\"CDSView\",\"id\":\"p1077\",\"attributes\":{\"filter\":{\"type\":\"object\",\"name\":\"AllIndices\",\"id\":\"p1078\"}}},\"glyph\":{\"type\":\"object\",\"name\":\"Circle\",\"id\":\"p1073\",\"attributes\":{\"x\":{\"type\":\"field\",\"field\":\"x\"},\"y\":{\"type\":\"field\",\"field\":\"y\"},\"size\":{\"type\":\"value\",\"value\":15.0},\"line_color\":{\"type\":\"value\",\"value\":\"navy\"},\"line_alpha\":{\"type\":\"value\",\"value\":0.75},\"fill_color\":{\"type\":\"value\",\"value\":\"navy\"},\"fill_alpha\":{\"type\":\"value\",\"value\":0.75},\"hatch_color\":{\"type\":\"value\",\"value\":\"navy\"},\"hatch_alpha\":{\"type\":\"value\",\"value\":0.75}}},\"nonselection_glyph\":{\"type\":\"object\",\"name\":\"Circle\",\"id\":\"p1074\",\"attributes\":{\"x\":{\"type\":\"field\",\"field\":\"x\"},\"y\":{\"type\":\"field\",\"field\":\"y\"},\"size\":{\"type\":\"value\",\"value\":15.0},\"line_color\":{\"type\":\"value\",\"value\":\"navy\"},\"line_alpha\":{\"type\":\"value\",\"value\":0.1},\"fill_color\":{\"type\":\"value\",\"value\":\"navy\"},\"fill_alpha\":{\"type\":\"value\",\"value\":0.1},\"hatch_color\":{\"type\":\"value\",\"value\":\"navy\"},\"hatch_alpha\":{\"type\":\"value\",\"value\":0.1}}},\"muted_glyph\":{\"type\":\"object\",\"name\":\"Circle\",\"id\":\"p1075\",\"attributes\":{\"x\":{\"type\":\"field\",\"field\":\"x\"},\"y\":{\"type\":\"field\",\"field\":\"y\"},\"size\":{\"type\":\"value\",\"value\":15.0},\"line_color\":{\"type\":\"value\",\"value\":\"navy\"},\"line_alpha\":{\"type\":\"value\",\"value\":0.2},\"fill_color\":{\"type\":\"value\",\"value\":\"navy\"},\"fill_alpha\":{\"type\":\"value\",\"value\":0.2},\"hatch_color\":{\"type\":\"value\",\"value\":\"navy\"},\"hatch_alpha\":{\"type\":\"value\",\"value\":0.2}}}}}],\"toolbar\":{\"type\":\"object\",\"name\":\"Toolbar\",\"id\":\"p1014\",\"attributes\":{\"tools\":[{\"type\":\"object\",\"name\":\"PanTool\",\"id\":\"p1040\"},{\"type\":\"object\",\"name\":\"UndoTool\",\"id\":\"p1041\"},{\"type\":\"object\",\"name\":\"RedoTool\",\"id\":\"p1042\"},{\"type\":\"object\",\"name\":\"ResetTool\",\"id\":\"p1043\"},{\"type\":\"object\",\"name\":\"SaveTool\",\"id\":\"p1044\"},{\"type\":\"object\",\"name\":\"WheelZoomTool\",\"id\":\"p1045\"},{\"type\":\"object\",\"name\":\"BoxZoomTool\",\"id\":\"p1046\",\"attributes\":{\"overlay\":{\"type\":\"object\",\"name\":\"BoxAnnotation\",\"id\":\"p1047\",\"attributes\":{\"syncable\":false,\"level\":\"overlay\",\"visible\":false,\"left_units\":\"canvas\",\"right_units\":\"canvas\",\"bottom_units\":\"canvas\",\"top_units\":\"canvas\",\"line_color\":\"black\",\"line_alpha\":1.0,\"line_width\":2,\"line_dash\":[4,4],\"fill_color\":\"lightgrey\",\"fill_alpha\":0.5}}}},{\"type\":\"object\",\"name\":\"HoverTool\",\"id\":\"p1049\",\"attributes\":{\"renderers\":\"auto\",\"tooltips\":[[\"x (m)\",\"@x{0,0.000}\"],[\"y (m)\",\"@y{0,0.000}\"]]}}]}},\"left\":[{\"type\":\"object\",\"name\":\"LinearAxis\",\"id\":\"p1033\",\"attributes\":{\"ticker\":{\"type\":\"object\",\"name\":\"BasicTicker\",\"id\":\"p1035\",\"attributes\":{\"mantissas\":[1,2,5]}},\"formatter\":{\"type\":\"object\",\"name\":\"BasicTickFormatter\",\"id\":\"p1034\"},\"axis_label\":\"y (m)\",\"major_label_policy\":{\"type\":\"object\",\"name\":\"AllLabels\",\"id\":\"p1036\"}}}],\"below\":[{\"type\":\"object\",\"name\":\"LinearAxis\",\"id\":\"p1026\",\"attributes\":{\"ticker\":{\"type\":\"object\",\"name\":\"BasicTicker\",\"id\":\"p1028\",\"attributes\":{\"mantissas\":[1,2,5]}},\"formatter\":{\"type\":\"object\",\"name\":\"BasicTickFormatter\",\"id\":\"p1027\"},\"axis_label\":\"x (m)\",\"major_label_policy\":{\"type\":\"object\",\"name\":\"AllLabels\",\"id\":\"p1029\"}}}],\"center\":[{\"type\":\"object\",\"name\":\"Grid\",\"id\":\"p1032\",\"attributes\":{\"axis\":{\"id\":\"p1026\"},\"grid_line_color\":\"silver\"}},{\"type\":\"object\",\"name\":\"Grid\",\"id\":\"p1039\",\"attributes\":{\"dimension\":1,\"axis\":{\"id\":\"p1033\"},\"grid_line_color\":\"silver\"}},{\"type\":\"object\",\"name\":\"Legend\",\"id\":\"p1068\",\"attributes\":{\"background_fill_alpha\":0.5,\"click_policy\":\"hide\",\"items\":[{\"type\":\"object\",\"name\":\"LegendItem\",\"id\":\"p1069\",\"attributes\":{\"label\":{\"type\":\"value\",\"value\":\"Trace\"},\"renderers\":[{\"id\":\"p1065\"}]}},{\"type\":\"object\",\"name\":\"LegendItem\",\"id\":\"p1079\",\"attributes\":{\"label\":{\"type\":\"value\",\"value\":\"Current Location\"},\"renderers\":[{\"id\":\"p1076\"}]}}]}}]}}],\"callbacks\":{\"type\":\"map\"}}};\n",
       "  const render_items = [{\"docid\":\"01b9d727-ed1b-478a-8d77-8c00a83c7aa4\",\"roots\":{\"p1008\":\"a494df97-b008-42d1-baa3-f7f470d971a0\"},\"root_ids\":[\"p1008\"]}];\n",
       "  root.Bokeh.embed.embed_items_notebook(docs_json, render_items);\n",
       "  }\n",
       "  if (root.Bokeh !== undefined) {\n",
       "    embed_document(root);\n",
       "  } else {\n",
       "    let attempts = 0;\n",
       "    const timer = setInterval(function(root) {\n",
       "      if (root.Bokeh !== undefined) {\n",
       "        clearInterval(timer);\n",
       "        embed_document(root);\n",
       "      } else {\n",
       "        attempts++;\n",
       "        if (attempts > 100) {\n",
       "          clearInterval(timer);\n",
       "          console.log(\"Bokeh: ERROR: Unable to run BokehJS code because BokehJS library is missing\");\n",
       "        }\n",
       "      }\n",
       "    }, 10, root)\n",
       "  }\n",
       "})(window);"
      ],
      "application/vnd.bokehjs_exec.v0+json": ""
     },
     "metadata": {
      "application/vnd.bokehjs_exec.v0+json": {
       "id": "p1008"
      }
     },
     "output_type": "display_data"
    }
   ],
   "source": [
    "show(plot_ball)"
   ]
  },
  {
   "cell_type": "code",
   "execution_count": 23,
   "metadata": {
    "tags": []
   },
   "outputs": [],
   "source": [
    "slider_cor = Slider(title=\"Co-efficient of Restitution\"+\" (initial: \"+str(cor_start)+\")\", value=cor_start, start=0.1, end=1.0, step=0.05)"
   ]
  },
  {
   "cell_type": "code",
   "execution_count": 9,
   "metadata": {
    "tags": []
   },
   "outputs": [],
   "source": [
    "start_time = 0.0\n",
    "end_time = 8.0\n",
    "time_step = 0.1\n",
    "slider_time = Slider(title=\"Time Slider (s)\", value=start_time, start=start_time, end=end_time, step=time_step, width=500)"
   ]
  },
  {
   "cell_type": "code",
   "execution_count": 11,
   "metadata": {
    "tags": []
   },
   "outputs": [],
   "source": [
    "# Function to update the plot data\n",
    "def update_data(attrname, old, new):\n",
    "    cor = slider_cor.value\n",
    "    time_value = slider_time.value\n",
    "    new_data = dict(x=[], y=[], t=[])\n",
    "    x, y, vx, vy, t = x0, y0, vx0, vy0, t0\n",
    "    while x < XMAX:\n",
    "        t += dt\n",
    "        x += vx0 * dt\n",
    "        y += vy * dt\n",
    "        vy -= g * dt\n",
    "        if y < 0:\n",
    "            # bounce!\n",
    "            y = 0\n",
    "            vy = -vy * cor\n",
    "        new_data['x'].append(x)\n",
    "        new_data['y'].append(y)\n",
    "        new_data['t'].append(t)\n",
    "        index_time_value = new_data['t'].index(time_value)\n",
    "        circle_dict = dict(x=[new_data['x'][index_time_value]], y=[new_data['y'][index_time_value]])\n",
    "        source.data=new_data\n",
    "        source_time.data=circle_dict"
   ]
  },
  {
   "cell_type": "code",
   "execution_count": 12,
   "metadata": {
    "tags": []
   },
   "outputs": [],
   "source": [
    "for w in [slider_cor, slider_time]:\n",
    "    w.on_change('value', update_data)"
   ]
  },
  {
   "cell_type": "code",
   "execution_count": 13,
   "metadata": {
    "tags": []
   },
   "outputs": [],
   "source": [
    "def animate():\n",
    "    global callback_id\n",
    "    if animate_button.label == '► Play':\n",
    "        animate_button.label = '❚❚ Pause'\n",
    "        callback_id = curdoc().add_periodic_callback(animate_update, time_step*1000.0) # s to milliseconds conversion\n",
    "    else:\n",
    "        animate_button.label = '► Play'\n",
    "        curdoc().remove_periodic_callback(callback_id)\n",
    "\n",
    "animate_button = Button(label='► Play', width=50)\n",
    "animate_button.on_event('button_click', animate)"
   ]
  },
  {
   "cell_type": "code",
   "execution_count": 19,
   "metadata": {},
   "outputs": [],
   "source": [
    "# Set up layouts and add to document\n",
    "layout_bouncing_ball = row(column(slider_cor, animate_button, slider_time), plot_ball)\n"
   ]
  },
  {
   "cell_type": "code",
   "execution_count": 22,
   "metadata": {},
   "outputs": [],
   "source": [
    "# Setup server\n",
    "curdoc().add_root(layout_bouncing_ball)\n",
    "\n",
    "curdoc().title = \"Bouncing Ball\"\n"
   ]
  },
  {
   "cell_type": "code",
   "execution_count": null,
   "metadata": {},
   "outputs": [],
   "source": []
  }
 ],
 "metadata": {
  "kernelspec": {
   "display_name": "Python 3 (ipykernel)",
   "language": "python",
   "name": "python3"
  },
  "language_info": {
   "codemirror_mode": {
    "name": "ipython",
    "version": 3
   },
   "file_extension": ".py",
   "mimetype": "text/x-python",
   "name": "python",
   "nbconvert_exporter": "python",
   "pygments_lexer": "ipython3",
   "version": "3.9.16"
  }
 },
 "nbformat": 4,
 "nbformat_minor": 4
}
