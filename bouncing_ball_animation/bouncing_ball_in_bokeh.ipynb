{
 "cells": [
  {
   "cell_type": "markdown",
   "metadata": {},
   "source": [
    "---\n",
    "#### Bouncing Ball Animation from Leaning Scientific Programming with Python\n",
    "\n",
    "* Direct link to the [work](https://scipython.com/book2/chapter-7-matplotlib/examples/animating-a-bouncing-ball/)\n",
    "---"
   ]
  },
  {
   "cell_type": "markdown",
   "metadata": {},
   "source": [
    "---\n",
    "\n",
    "##### Design\n",
    "\n",
    "* A function to generate bouncing ball height based on co-efficient of restitution\n",
    "\n",
    "* Generate a pandas dataframe to store for 4 different values of restitution. Dataframe should have time, height and co-efficient of restitution. We can regnerate all ODE values like reaction kinetics, but keeping the use case simple here.\n",
    "\n",
    "* User button option for restitution\n",
    "\n",
    "* Time slider for bouncing ball\n",
    "\n",
    "* Animate button \n",
    "\n",
    "* Add Tool tips to have height of ball and time\n",
    "\n",
    "---"
   ]
  },
  {
   "cell_type": "code",
   "execution_count": null,
   "metadata": {},
   "outputs": [],
   "source": [
    "import numpy as np\n",
    "from bokeh.models import ColumnDataSource, Slider, Div, HoverTool, Grid, Tabs, Button\n",
    "from bokeh.plotting import figure,show\n",
    "from bokeh.io import output_notebook"
   ]
  },
  {
   "cell_type": "code",
   "execution_count": null,
   "metadata": {
    "tags": []
   },
   "outputs": [],
   "source": [
    "output_notebook()"
   ]
  },
  {
   "cell_type": "code",
   "execution_count": null,
   "metadata": {
    "tags": []
   },
   "outputs": [],
   "source": [
    "# Acceleration due to gravity, m.s-2.\n",
    "g = 9.81\n",
    "# The maximum x-range of ball's trajectory to plot.\n",
    "XMAX = 5\n",
    "# The coefficient of restitution for bounces (-v_up/v_down).\n",
    "cor_start = 0.65\n",
    "# The time step for the animation.\n",
    "dt = 0.005\n",
    "# Initial position and velocity vectors.\n",
    "x0, y0, t0 = 0.0, 4.0, 0.0\n",
    "vx0, vy0 = 1.0, 0.0"
   ]
  },
  {
   "cell_type": "code",
   "execution_count": null,
   "metadata": {
    "tags": []
   },
   "outputs": [],
   "source": [
    "a=0\n",
    "a+=1\n",
    "a"
   ]
  },
  {
   "cell_type": "code",
   "execution_count": null,
   "metadata": {
    "tags": []
   },
   "outputs": [],
   "source": [
    "initial_data = dict(x=[], y=[], t=[])\n",
    "x, y, vx, vy, t = x0, y0, vx0, vy0, t0\n",
    "print(y)\n",
    "while x < XMAX:\n",
    "    x += vx0 * dt\n",
    "    y += vy * dt\n",
    "    vy -= g * dt\n",
    "    t += dt\n",
    "    if y < 0:\n",
    "        # bounce!\n",
    "        y = 0\n",
    "        vy = -vy * cor_start\n",
    "    initial_data['x'].append(x)\n",
    "    initial_data['y'].append(y)\n",
    "    initial_data['t'].append(t)\n",
    "source=ColumnDataSource(data=initial_data)\n",
    "initial_pos_data = dict(x=[initial_data['x'][10]], y=[initial_data['y'][10]])\n",
    "source_time = ColumnDataSource(data=initial_pos_data)"
   ]
  },
  {
   "cell_type": "code",
   "execution_count": null,
   "metadata": {
    "tags": []
   },
   "outputs": [],
   "source": [
    "# Set up plot for concentrations\n",
    "TOOLTIPS = [(\"x (m)\",\"@x{0,0.000}\"), (\"y (m)\",\"@y{0,0.000}\")]\n",
    "TOOLS = \"pan,undo,redo,reset,save,wheel_zoom,box_zoom\"\n",
    "plot_ball = figure(height=450, width=550, tools=TOOLS, tooltips=TOOLTIPS,\n",
    "              title=\"Bouncing Ball Animation\")\n",
    "plot_ball.line('x', 'y', source=source, line_width=3, line_alpha=0.6, line_color=\"mediumblue\",\n",
    "               legend_label=\"Trace\")\n",
    "plot_ball.circle('x', 'y', source=source_time, color=\"navy\", size=15.0, alpha=0.75,\n",
    "               legend_label=\"Current Location\")\n",
    "plot_ball.xaxis.axis_label = \"x (m)\"\n",
    "plot_ball.yaxis.axis_label = \"y (m)\"\n",
    "plot_ball.legend.location = \"top_right\"\n",
    "plot_ball.legend.click_policy=\"hide\"\n",
    "plot_ball.legend.background_fill_alpha = 0.5\n",
    "plot_ball.grid.grid_line_color = \"silver\""
   ]
  },
  {
   "cell_type": "code",
   "execution_count": null,
   "metadata": {
    "tags": []
   },
   "outputs": [],
   "source": [
    "show(plot_ball)"
   ]
  },
  {
   "cell_type": "code",
   "execution_count": null,
   "metadata": {
    "tags": []
   },
   "outputs": [],
   "source": [
    "slider_cor = Slider(title=\"Co-efficient of Restitution\"+\" (initial: \"+str(cor_start)+\")\", value=cor_start, start=0.1, end=1.0, step=0.05)"
   ]
  },
  {
   "cell_type": "code",
   "execution_count": null,
   "metadata": {
    "tags": []
   },
   "outputs": [],
   "source": [
    "start_time = 0.0\n",
    "end_time = 8.0\n",
    "time_step = 0.1\n",
    "slider_time = Slider(title=\"Time Slider (s)\", value=start_time, start=start_time, end=end_time, step=time_step, width=500)"
   ]
  },
  {
   "cell_type": "code",
   "execution_count": null,
   "metadata": {
    "tags": []
   },
   "outputs": [],
   "source": [
    "# Function to update the plot data\n",
    "def update_data(attrname, old, new):\n",
    "    cor = slider_cor.value\n",
    "    new_data = dict(x=[], y=[], t=[])\n",
    "    x, y, vx, vy = x0, y0, vx0, vy0\n",
    "    while x < XMAX:\n",
    "        x += vx0 * dt\n",
    "        y += vy * dt\n",
    "        vy -= g * dt\n",
    "        if y < 0:\n",
    "            # bounce!\n",
    "            y = 0\n",
    "            vy = -vy * cor\n",
    "        new_data['x'].append(x)\n",
    "        new_data['y'].append(y)\n",
    "        source.data=new_data"
   ]
  },
  {
   "cell_type": "code",
   "execution_count": null,
   "metadata": {
    "tags": []
   },
   "outputs": [],
   "source": [
    "for w in [slider_cor, slider_time]:\n",
    "    w.on_change('value', update_data)"
   ]
  },
  {
   "cell_type": "code",
   "execution_count": null,
   "metadata": {
    "tags": []
   },
   "outputs": [],
   "source": [
    "def animate():\n",
    "    global callback_id\n",
    "    if animate_button.label == '► Play':\n",
    "        animate_button.label = '❚❚ Pause'\n",
    "        callback_id = curdoc().add_periodic_callback(animate_update, time_step*1000.0) # s to milliseconds conversion\n",
    "    else:\n",
    "        animate_button.label = '► Play'\n",
    "        curdoc().remove_periodic_callback(callback_id)\n",
    "\n",
    "animate_button = Button(label='► Play', width=50)\n",
    "animate_button.on_event('button_click', animate)"
   ]
  },
  {
   "cell_type": "code",
   "execution_count": null,
   "metadata": {},
   "outputs": [],
   "source": [
    "# Set up layouts and add to document\n",
    "inputs_bouncing_ball = column(slider_cor, animate_button, slider_time )\n",
    "\n",
    "tab_plot =Panel(child=row(inputs_bouncing_ball, plot_conc, column(plot_vbar, inputs_time, height=450)), title=\"Desktop\")\n",
    "tab2 =Panel(child=column(inputs_reaction, plot_conc, column(plot_vbar, inputs_time, height=475)), title=\"Mobile\")\n",
    "tabs = Tabs(tabs = [tab1, tab2])"
   ]
  },
  {
   "cell_type": "code",
   "execution_count": null,
   "metadata": {},
   "outputs": [],
   "source": [
    "# Setup server\n",
    "curdoc().add_root(tabs)\n",
    "\n",
    "curdoc().title = \"Bouncing Ball\"\n"
   ]
  }
 ],
 "metadata": {
  "kernelspec": {
   "display_name": "Python 3 (ipykernel)",
   "language": "python",
   "name": "python3"
  },
  "language_info": {
   "codemirror_mode": {
    "name": "ipython",
    "version": 3
   },
   "file_extension": ".py",
   "mimetype": "text/x-python",
   "name": "python",
   "nbconvert_exporter": "python",
   "pygments_lexer": "ipython3",
   "version": "3.9.16"
  }
 },
 "nbformat": 4,
 "nbformat_minor": 4
}
