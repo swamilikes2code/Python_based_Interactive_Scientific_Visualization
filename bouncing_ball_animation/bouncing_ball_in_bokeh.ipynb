{
 "cells": [
  {
   "cell_type": "markdown",
   "metadata": {},
   "source": [
    "---\n",
    "#### Bouncing Ball Animation from Leaning Scientific Programming with Python\n",
    "\n",
    "* Direct link to the [work](https://scipython.com/book2/chapter-7-matplotlib/examples/animating-a-bouncing-ball/)\n",
    "---"
   ]
  },
  {
   "cell_type": "markdown",
   "metadata": {},
   "source": [
    "---\n",
    "\n",
    "##### Design\n",
    "\n",
    "* A function to generate bouncing ball height based on co-efficient of restitution\n",
    "\n",
    "* Generate a pandas dataframe to store for 4 different values of restitution. Dataframe should have time, height and co-efficient of restitution. We can regnerate all ODE values like reaction kinetics, but keeping the use case simple here.\n",
    "\n",
    "* User button option for restitution\n",
    "\n",
    "* Time slider for bouncing ball\n",
    "\n",
    "* Animate button \n",
    "\n",
    "* Add Tool tips to have height of ball and time\n",
    "\n",
    "---"
   ]
  },
  {
   "cell_type": "code",
   "execution_count": null,
   "metadata": {},
   "outputs": [],
   "source": [
    "import numpy as np\n",
    "from bokeh.models import ColumnDataSource, Slider, Div, HoverTool, Grid, Tabs, Button"
   ]
  },
  {
   "cell_type": "code",
   "execution_count": null,
   "metadata": {
    "tags": []
   },
   "outputs": [],
   "source": [
    "# Acceleration due to gravity, m.s-2.\n",
    "g = 9.81\n",
    "# The maximum x-range of ball's trajectory to plot.\n",
    "XMAX = 5\n",
    "# The coefficient of restitution for bounces (-v_up/v_down).\n",
    "cor_start = 0.65\n",
    "# The time step for the animation.\n",
    "dt = 0.005"
   ]
  },
  {
   "cell_type": "code",
   "execution_count": null,
   "metadata": {
    "tags": []
   },
   "outputs": [],
   "source": [
    "slider_cor = Slider(title=\"Co-efficient of Restitution\"+\" (initial: \"+str(cor_start)+\")\", value=cor_start, start=0.1, end=1.0, step=0.05)"
   ]
  },
  {
   "cell_type": "code",
   "execution_count": null,
   "metadata": {
    "tags": []
   },
   "outputs": [],
   "source": [
    "start_time = 0.0\n",
    "end_time = 8.0\n",
    "time_step = 0.1\n",
    "slider_time = Slider(title=\"Time Slider (s)\", value=start_time, start=start_time, end=end_time, step=time_step, width=500)"
   ]
  },
  {
   "cell_type": "code",
   "execution_count": null,
   "metadata": {
    "tags": []
   },
   "outputs": [],
   "source": [
    "# Function to update the plot data\n",
    "def update_data(attrname, old, new):\n",
    "    cor = slider_cor.value\n",
    "    new_data = dict(x=[], y=[])\n",
    "    x, y, vx, vy = x0, y0, vx0, vy0\n",
    "    while x < XMAX:\n",
    "        x += vx0 * dt\n",
    "        y += vy * dt\n",
    "        vy -= g * dt\n",
    "        if y < 0:\n",
    "            # bounce!\n",
    "            y = 0\n",
    "            vy = -vy * cor\n",
    "        new_data['x'].append(x)\n",
    "        new_data['y'].append(y)\n",
    "        source.data=new_data"
   ]
  },
  {
   "cell_type": "code",
   "execution_count": null,
   "metadata": {
    "tags": []
   },
   "outputs": [],
   "source": [
    "for w in [slider_cor, slider_time]:\n",
    "    w.on_change('value', update_data)"
   ]
  },
  {
   "cell_type": "code",
   "execution_count": null,
   "metadata": {
    "tags": []
   },
   "outputs": [],
   "source": [
    "def animate():\n",
    "    global callback_id\n",
    "    if animate_button.label == '► Play':\n",
    "        animate_button.label = '❚❚ Pause'\n",
    "        callback_id = curdoc().add_periodic_callback(animate_update, time_step*1000.0) # s to milliseconds conversion\n",
    "    else:\n",
    "        animate_button.label = '► Play'\n",
    "        curdoc().remove_periodic_callback(callback_id)\n",
    "\n",
    "animate_button = Button(label='► Play', width=50)\n",
    "animate_button.on_event('button_click', animate)"
   ]
  },
  {
   "cell_type": "code",
   "execution_count": null,
   "metadata": {},
   "outputs": [],
   "source": [
    "# Setup layout"
   ]
  },
  {
   "cell_type": "code",
   "execution_count": null,
   "metadata": {},
   "outputs": [],
   "source": [
    "# Setup server"
   ]
  }
 ],
 "metadata": {
  "kernelspec": {
   "display_name": "Python 3 (ipykernel)",
   "language": "python",
   "name": "python3"
  },
  "language_info": {
   "codemirror_mode": {
    "name": "ipython",
    "version": 3
   },
   "file_extension": ".py",
   "mimetype": "text/x-python",
   "name": "python",
   "nbconvert_exporter": "python",
   "pygments_lexer": "ipython3",
   "version": "3.9.16"
  }
 },
 "nbformat": 4,
 "nbformat_minor": 4
}
